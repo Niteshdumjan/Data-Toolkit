{
  "nbformat": 4,
  "nbformat_minor": 0,
  "metadata": {
    "colab": {
      "provenance": []
    },
    "kernelspec": {
      "name": "python3",
      "display_name": "Python 3"
    },
    "language_info": {
      "name": "python"
    }
  },
  "cells": [
    {
      "cell_type": "code",
      "execution_count": 1,
      "metadata": {
        "id": "lsJr4Xe2FDux"
      },
      "outputs": [],
      "source": [
        "# 1 What is NumPy, and why is it widely used in Python?\n",
        "'''\n",
        "NumPy (short for Numerical Python) is a powerful open-source library in Python used\n",
        "primarily for numerical computing\n",
        "'''\n",
        "\n"
      ]
    },
    {
      "cell_type": "code",
      "source": [
        "# 2. How does broadcasting work in NumPy?\n",
        "\n",
        "'''\n",
        "Broadcasting is the set of rules NumPy uses to apply element-wise operations\n",
        "(like addition or multiplication) to arrays of different shapes.\n",
        "\n",
        "Instead of manually reshaping or looping through data, NumPy automatically \"stretches\"\n",
        "one or more arrays so their shapes match — if possible.\n",
        "\n",
        "'''\n"
      ],
      "metadata": {
        "id": "ivCot52lFf9F"
      },
      "execution_count": null,
      "outputs": []
    },
    {
      "cell_type": "code",
      "source": [
        "# 3. What is a Pandas DataFrame?\n",
        "''''\n",
        " A Pandas DataFrame is a two-dimensional, size-mutable, potentially heterogeneous tabular data structure with labeled axes (rows and columns).\n",
        " It's essentially a table of data, similar to a spreadsheet or SQL table, but with more powerful data manipulation capabilities.\n",
        "\n",
        " Key features include:\n",
        " - Labeled axes (rows and columns):  You can access data using meaningful labels (names) instead of just numerical indices.\n",
        " - Heterogeneous data: Columns can contain different data types (integers, floats, strings, etc.).\n",
        " - Data alignment: Operations between DataFrames are automatically aligned based on labels, simplifying data merging and manipulation.\n",
        " - Mutability: You can add, remove, or modify columns and rows in a DataFrame.\n",
        " - Efficient data handling: Pandas uses optimized data structures to handle large datasets efficiently.\n",
        " - Integration with other libraries: DataFrames can be easily integrated with NumPy and other scientific computing libraries.\n",
        " '''"
      ],
      "metadata": {
        "id": "H7EJZ3PxGnoZ"
      },
      "execution_count": null,
      "outputs": []
    },
    {
      "cell_type": "code",
      "source": [
        "# 4. Explain the use of the groupby() method in Pandas.\n",
        "\n",
        "import pandas as pd\n",
        "\n",
        "# Sample DataFrame (replace with your actual data)\n",
        "data = {'Category': ['A', 'B', 'A', 'B', 'C', 'A'],\n",
        "        'Value': [10, 15, 20, 25, 30, 35]}\n",
        "df = pd.DataFrame(data)\n",
        "\n",
        "# Group by 'Category' and calculate the sum of 'Value' for each group\n",
        "grouped = df.groupby('Category')['Value'].sum()\n",
        "print(grouped)\n",
        "\n",
        "# Group by 'Category' and calculate multiple aggregations\n",
        "grouped_multiple = df.groupby('Category')['Value'].agg(['sum', 'mean', 'count'])\n",
        "grouped_multiple\n"
      ],
      "metadata": {
        "id": "9RE6Z-Z7GOLp"
      },
      "execution_count": null,
      "outputs": []
    },
    {
      "cell_type": "code",
      "source": [
        "#  5. Why is Seaborn preferred for statistical visualizations)\n",
        "\n",
        "'''\n",
        "Seaborn is often preferred for statistical visualizations because it builds on top of Matplotlib, providing a higher-level interface with several advantages:\n",
        "\n",
        "1. **Statistical estimations:** Seaborn excels at creating visualizations that directly display statistical relationships in data.  It offers functions to easily generate plots like regression lines, confidence intervals, and distributions, making it much easier to explore statistical trends than with raw Matplotlib.\n",
        "\n",
        "2. **Attractive defaults:** Seaborn's default aesthetics are generally more visually appealing than Matplotlib's, producing publication-quality plots with minimal customization.  This saves time and effort in formatting.\n",
        "\n",
        "3. **Higher-level functions:**  Seaborn provides convenient functions for common statistical plot types (e.g., `distplot`, `pairplot`, `heatmap`, `violinplot`), which often require multiple Matplotlib commands.  This simplifies the plotting process significantly, allowing you to focus on data insights rather than plot construction.\n",
        "\n",
        "4. **Integration with Pandas:** Seaborn integrates seamlessly with Pandas DataFrames, making it straightforward to create visualizations directly from data structures commonly used in data analysis.\n",
        "\n",
        "\n",
        "While Matplotlib offers more granular control, Seaborn's higher-level approach and focus on statistical visualizations make it a more efficient and visually appealing choice for many data analysis tasks.  For complex plots requiring very fine-grained control, you might use Matplotlib in conjunction with Seaborn.\n",
        "'''"
      ],
      "metadata": {
        "id": "IQN01XcQGW74"
      },
      "execution_count": null,
      "outputs": []
    },
    {
      "cell_type": "code",
      "source": [
        "\n",
        "\n"
      ],
      "metadata": {
        "id": "_xSycdgaGq7m"
      },
      "execution_count": null,
      "outputs": []
    },
    {
      "cell_type": "code",
      "source": [
        "\n",
        "# 6. What are the differences between NumPy arrays and Python lists?\n",
        "'''\n",
        "NumPy arrays and Python lists are both used to store sequences of data, but they have key differences:\n",
        "\n",
        "1. Data Type Homogeneity:\n",
        "   - NumPy arrays are homogeneous:  All elements in a NumPy array must be of the same data type (e.g., all integers, all floats).\n",
        "   - Python lists are heterogeneous:  Lists can contain elements of different data types (integers, floats, strings, other lists, etc.).\n",
        "\n",
        "2. Performance:\n",
        "   - NumPy arrays are significantly faster for numerical operations.  NumPy is implemented in C and optimized for numerical computation, making it much more efficient for mathematical operations on large datasets than Python lists.\n",
        "   - Python lists are slower due to their dynamic typing and the overhead of interpreting operations on elements of varying data types.\n",
        "\n",
        "3. Memory Efficiency:\n",
        "   - NumPy arrays are more memory-efficient than Python lists. They store data in a contiguous block of memory, minimizing overhead.\n",
        "   - Python lists store pointers to objects, which adds memory overhead, particularly for large datasets.\n",
        "\n",
        "4. Functionality:\n",
        "   - NumPy provides a rich set of mathematical functions and operations that are optimized for array operations (e.g., vectorized operations, linear algebra, Fourier transforms).\n",
        "   - Python lists have built-in methods for basic operations but lack the specialized mathematical capabilities of NumPy.\n",
        "\n",
        "5. Usage:\n",
        "   - NumPy arrays are primarily used for numerical and scientific computing, where performance and efficiency are critical.\n",
        "   - Python lists are more general-purpose and can be used for a wider variety of tasks, including storing mixed data types and representing sequences of items.\n",
        "\n",
        "In summary: use NumPy arrays for numerical and scientific computing tasks where performance is essential. Use Python lists for general-purpose tasks where flexibility and mixed data types are needed.\n",
        "'''\n"
      ],
      "metadata": {
        "id": "kO3Bkk41G2MP"
      },
      "execution_count": null,
      "outputs": []
    },
    {
      "cell_type": "code",
      "source": [
        "# 7. What is a heatmap, and when should it be used?\n",
        "'''\n",
        "A heatmap is a graphical representation of data where values are depicted as colors.  It's essentially a matrix or table where each cell is colored according to its corresponding value.  Higher values are typically represented by warmer colors (e.g., red, yellow), while lower values are represented by cooler colors (e.g., blue, green).\n",
        "\n",
        "When to use a heatmap:\n",
        "\n",
        "1. Visualizing correlations: Heatmaps are excellent for showing the correlation between multiple variables.  A correlation matrix, represented as a heatmap, allows you to quickly identify strong positive or negative relationships between variables.\n",
        "\n",
        "2. Showing patterns in data matrices:  If you have a matrix of data (e.g., a table of sales figures by region and product), a heatmap can quickly reveal patterns or trends in the data.\n",
        "\n",
        "3. Representing probabilities or distributions: Heatmaps can also be used to display probability distributions or densities, where color intensity represents the probability or density at a particular point.\n",
        "\n",
        "4. Feature importance in machine learning: When working with machine learning models, heatmaps can be useful to visualize feature importance, highlighting which features have the most significant impact on model predictions.\n",
        "\n",
        "Example using Seaborn (assuming you have a correlation matrix called 'correlation_matrix'):\n",
        "\n",
        "import seaborn as sns\n",
        "import matplotlib.pyplot as plt\n",
        "\n",
        "# Sample correlation matrix (replace with your actual data)\n",
        "correlation_matrix = [[1, 0.5, -0.2], [0.5, 1, 0.7], [-0.2, 0.7, 1]]\n",
        "\n",
        "# Create the heatmap\n",
        "plt.figure(figsize=(8, 6)) # Adjust figure size as needed\n",
        "sns.heatmap(correlation_matrix, annot=True, cmap='coolwarm', fmt=\".2f\", linewidths=.5)\n",
        "plt.title('Correlation Heatmap')\n",
        "plt.show()\n",
        "\n",
        "'''"
      ],
      "metadata": {
        "id": "TgM3xIxkHG5j"
      },
      "execution_count": null,
      "outputs": []
    },
    {
      "cell_type": "code",
      "source": [
        "\n",
        "# 8. What does the term “vectorized operation” mean in NumPy?\n",
        "'''\n",
        "In NumPy, a vectorized operation is an operation that is applied to an entire array (or multiple arrays) at once, rather than element by element using explicit loops.  NumPy's vectorized operations are highly optimized, leveraging efficient underlying implementations in C or Fortran.\n",
        "\n",
        "Benefits of Vectorization:\n",
        "\n",
        "1. Performance:  Vectorized operations are much faster than explicit loops in Python, especially for large arrays.  This is because NumPy's optimized functions avoid the overhead of Python's interpreter.\n",
        "\n",
        "2. Readability: Vectorized code is often more concise and easier to read than code that uses explicit loops.\n",
        "\n",
        "3. Conciseness:  Vectorized operations express complex calculations in a few lines of code, making the code more compact and understandable.\n",
        "\n",
        "\n",
        "Example:\n",
        "Instead of looping through an array to square each element:\n"
      ],
      "metadata": {
        "id": "wkef7mgAHK4U"
      },
      "execution_count": null,
      "outputs": []
    },
    {
      "cell_type": "code",
      "source": [
        "# 9. How does Matplotlib differ from Plotly?\n",
        "\n",
        "'''\n",
        "Matplotlib and Plotly are both popular Python libraries for creating visualizations, but they differ significantly in their approach and capabilities:\n",
        "\n",
        "Matplotlib:\n",
        "\n",
        "- Static Plots: Primarily generates static images (PNG, JPG, SVG, etc.).  While you can create interactive plots with Matplotlib's interactive backends, interactivity is not its primary strength.\n",
        "- Wide Range of Plot Types: Supports a vast array of plot types, offering fine-grained control over plot elements.  Suitable for a wide range of visualization needs.\n",
        "- Granular Control:  Provides detailed control over every aspect of the plot, including axes, labels, colors, and plot elements. This level of control is powerful but can be time-consuming.\n",
        "- Publication Quality:  Excellent for creating publication-quality figures, but interactivity is limited.\n",
        "- Primarily for Static Images: Best used for generating images for reports, papers, presentations where interactivity is not a primary requirement.\n",
        "\n",
        "\n",
        "Plotly:\n",
        "\n",
        "- Interactive Plots: Designed for creating interactive plots that users can explore dynamically.  It's very strong in this area.\n",
        "- Web-Based: Plots are displayed in a web browser or rendered as HTML, allowing for dynamic interactions such as zooming, panning, hovering, and selection.\n",
        "- Online and Offline Modes:  Plotly can be used to create plots for the web (Plotly Chart Studio) or offline in Jupyter notebooks or other environments.\n",
        "- Easier to Generate Interactive Plots: Provides high-level functions that make it easier to create interactive plots compared to Matplotlib.\n",
        "- Limited Customization (Sometimes): While Plotly offers extensive customization options, fine-grained control over some aspects may not be as extensive as Matplotlib's.\n",
        "\n",
        "\n",
        "In Summary:\n",
        "\n",
        "\n",
        "- Choose Matplotlib when you need static, publication-quality figures with complete customization and have a good understanding of Matplotlib's intricacies.\n",
        "- Choose Plotly when interactivity is critical to your visualization needs, such as exploring large datasets or creating dashboards.\n",
        "\n",
        "\n",
        "Example (Matplotlib):\n",
        "import matplotlib.pyplot as plt\n",
        "import numpy as np\n",
        "\n",
        "x = np.linspace(0, 10, 100)\n",
        "y = np.sin(x)\n",
        "\n",
        "plt.plot(x, y)\n",
        "plt.xlabel(\"X-axis\")\n",
        "plt.ylabel(\"Y-axis\")\n",
        "plt.title(\"Sine Wave\")\n",
        "plt.show()\n",
        "\n",
        "\n",
        "Example (Plotly):\n",
        "import plotly.express as px\n",
        "\n",
        "df = px.data.iris()  # Sample dataset\n",
        "fig = px.scatter(df, x=\"sepal_width\", y=\"sepal_length\", color=\"species\")\n",
        "fig.show()\n",
        "\n",
        "'''"
      ],
      "metadata": {
        "id": "sa2VWrIRHgDR"
      },
      "execution_count": null,
      "outputs": []
    },
    {
      "cell_type": "code",
      "source": [
        "# 10. Significance of Hierarchical Indexing in Pandas\n",
        "import pandas as pd\n",
        "\n",
        "'''\n",
        "  Hierarchical indexing (also known as MultiIndex) in Pandas allows you to have multiple levels of row or column labels in a DataFrame or Series. This enables representing higher-dimensional data in a lower-dimensional format, facilitating complex data manipulations and analysis.\n",
        "\n",
        "  Significance:\n",
        "\n",
        "  1. Representing Multi-Dimensional Data:  Hierarchical indexing makes it easy to work with data that has more than two dimensions (e.g., time series with multiple locations, product sales with different categories and subcategories).\n",
        "\n",
        "  2. Grouped Operations:  Facilitates grouped operations such as aggregation, pivoting, and reshaping.  You can group by multiple levels of the index, allowing you to get more nuanced insights from your data.\n",
        "\n",
        "  3. Data Alignment: Simplifies data alignment across multiple axes.  When performing operations on data with hierarchical indexes, Pandas aligns the data based on all index levels.\n",
        "\n",
        "  4. Data Selection and Slicing: Enables efficient data selection and slicing. You can select data based on specific combinations of index levels, making it easier to subset your data.\n",
        "\n",
        "\n",
        "  Example:\n",
        "'''\n",
        "\n",
        "# Create a DataFrame with a MultiIndex\n",
        "index = pd.MultiIndex.from_product([[2023, 2024], ['Q1', 'Q2']], names=['Year', 'Quarter'])\n",
        "data = {'Sales': [100, 150, 120, 180]}\n",
        "df = pd.DataFrame(data, index=index)\n",
        "print(df)\n",
        "\n",
        "# Accessing data using index levels\n",
        "print(df.loc[2023])  # Access data for the year 2023\n",
        "print(df.loc[(2023, 'Q1')])  # Access data for 2023, Q1\n",
        "\n",
        "\n",
        "# Grouped operations\n",
        "print(df.groupby(level='Year').sum()) # Sum of sales by year\n"
      ],
      "metadata": {
        "id": "phC3eWwPH3JQ"
      },
      "execution_count": null,
      "outputs": []
    },
    {
      "cell_type": "code",
      "source": [
        "\n",
        "# 12. What is the purpose of the describe() function in Pandas?\n",
        "'''\n",
        "The describe() function in Pandas is used to generate descriptive statistics of a\n",
        "DataFrame or Series.  It provides a quick overview of the central tendency, dispersion,\n",
        "and shape of the data's distribution.  It's a very convenient way to get a summary of\n",
        "your data without writing a lot of code.\n",
        "'''\n",
        "\n",
        "# Example usage:\n",
        "import pandas as pd\n",
        "\n",
        "# Sample DataFrame (replace with your actual data)\n",
        "data = {'A': [1, 2, 3, 4, 5],\n",
        "        'B': [6, 7, 8, 9, 10]}\n",
        "df = pd.DataFrame(data)\n",
        "\n",
        "# Generate descriptive statistics\n",
        "summary = df.describe()\n",
        "summary\n"
      ],
      "metadata": {
        "id": "G5k2qq3CIVOh"
      },
      "execution_count": null,
      "outputs": []
    },
    {
      "cell_type": "code",
      "source": [
        "# 13. Why is handling missing data important in Pandas?\n",
        "import pandas as pd\n",
        "import numpy as np\n",
        "'''\n",
        "Handling missing data is crucial in Pandas (and data analysis in general) for several reasons:\n",
        "\n",
        "1. Accurate Analysis: Missing data can lead to biased or inaccurate results if not addressed properly.  Many statistical methods and machine learning algorithms cannot handle missing values, and simply ignoring them can lead to misleading conclusions.\n",
        "\n",
        "2. Data Integrity: Missing data can indicate issues with data collection, measurement errors, or other problems with the data itself.  Addressing missing data can help identify these issues and improve the overall data quality.\n",
        "\n",
        "3. Reliable Predictions: In predictive modeling, missing data can significantly impact the accuracy of predictions.  If a model is trained on data with missing values, it may not generalize well to new data where those same values are also missing.\n",
        "\n",
        "4. Algorithm Compatibility: Many machine learning algorithms cannot handle missing data directly.  You must use techniques to either remove rows or columns with missing data, or to impute (fill in) the missing values before applying these algorithms.\n",
        "\n",
        "5. Improved Model Performance: Imputing or removing missing data appropriately can significantly improve model performance.  Using appropriate imputation methods can preserve more of the original dataset while still providing a dataset suitable for machine learning algorithms.\n",
        "\n",
        "Techniques for Handling Missing Data:\n",
        "\n",
        "- Removal:\n",
        "    - Drop rows or columns with missing data.  Use this carefully, as it can result in significant data loss, especially if the proportion of missing values is high.\n",
        "- Imputation:\n",
        "    - Fill in missing values with estimated values.  Common methods include mean/median imputation, mode imputation, or using more sophisticated methods like k-Nearest Neighbors (k-NN) imputation or model-based imputation.\n",
        "\n",
        "\n",
        "Example:\n",
        "'''\n",
        "\n",
        "# Sample DataFrame with missing values\n",
        "data = {'A': [1, 2, np.nan, 4, 5],\n",
        "        'B': [6, np.nan, 8, 9, 10]}\n",
        "df = pd.DataFrame(data)\n",
        "\n",
        "# Check for missing values\n",
        "print(df.isnull().sum())  # Count of missing values in each column\n",
        "\n",
        "# Option 1: Drop rows with any missing values\n",
        "df_dropped = df.dropna()\n",
        "print(\"\\nDataFrame after dropping rows with NaN:\")\n",
        "print(df_dropped)\n",
        "\n",
        "# Option 2: Impute missing values using the mean\n",
        "df_imputed = df.fillna(df.mean())  # Fill with the mean of each column\n",
        "print(\"\\nDataFrame after imputing NaN values with column means:\")\n",
        "df_imputed\n"
      ],
      "metadata": {
        "id": "mlKCf9gWImlk"
      },
      "execution_count": null,
      "outputs": []
    },
    {
      "cell_type": "code",
      "source": [
        "\n",
        "# 14. What are the benefits of using Plotly for data visualization?\n",
        "\n",
        "'''\n",
        "Plotly offers several advantages for data visualization:\n",
        "\n",
        "1. Interactive Plots:  Plotly's primary strength lies in its ability to create interactive visualizations. Users can zoom, pan, hover over data points to see details, and even select subsets of data directly within the plot. This interactivity is crucial for exploring large and complex datasets.\n",
        "\n",
        "2. Web-Based Output: Plotly plots are rendered in web browsers or as HTML files, making them easily shareable and viewable on various devices.  This also allows for embedding plots in web applications or dashboards.\n",
        "\n",
        "3. Wide Range of Plot Types:  Plotly supports a large variety of plot types, including scatter plots, line charts, bar charts, histograms, heatmaps, 3D plots, and more.  It covers a broad range of visualization needs.\n",
        "\n",
        "4. Offline and Online Options: You can use Plotly in offline mode within Jupyter notebooks or other environments without needing an internet connection.  Alternatively, you can use Plotly's online platform (Chart Studio) to host and share your plots.\n",
        "\n",
        "5. Customizable and Extensible:  While Plotly provides high-level functions for quick plotting, it offers extensive customization options to tailor plots to specific requirements. It's also possible to extend its functionality with plugins and custom JavaScript code.\n",
        "\n",
        "6. Animations and Transitions:  Plotly can create animated plots and transitions, which are excellent for visualizing changes in data over time or highlighting specific patterns.\n",
        "\n",
        "7. Integration with Pandas: Plotly works seamlessly with Pandas DataFrames, making it easy to create visualizations directly from data structures commonly used in data analysis.\n",
        "\n",
        "In Summary:  Use Plotly when interactivity and web-based sharing are important. It's a powerful tool for exploring complex datasets and creating interactive dashboards.  It may not be the first choice for static, publication-quality figures when absolute fine-grained control and flexibility are paramount (where Matplotlib might be preferred).\n",
        "'''\n"
      ],
      "metadata": {
        "id": "wLOccpWOItRA"
      },
      "execution_count": null,
      "outputs": []
    },
    {
      "cell_type": "code",
      "source": [
        "#15. How does NumPy handle multidimensional arrays?\n",
        "\n",
        "import numpy as np\n",
        "\n",
        "'''\n",
        "NumPy excels at handling multidimensional arrays (arrays with more than one dimension, like matrices or tensors).  It provides efficient ways to create, manipulate, and perform operations on these arrays.\n",
        "\n",
        "Key aspects of NumPy's multidimensional array handling:\n",
        "\n",
        "1. ndarray Object:  The core of NumPy is the ndarray (N-dimensional array) object.  This object is highly optimized for numerical operations and storage.  It stores elements of the same data type in a contiguous block of memory, promoting efficient access and calculations.\n",
        "\n",
        "2. Shape and Dimensions:  The `shape` attribute of an ndarray gives the dimensions of the array (e.g., a 3x4 matrix has a shape of (3, 4)).  The number of dimensions is given by the `ndim` attribute.\n",
        "\n",
        "3. Indexing and Slicing: NumPy provides flexible indexing and slicing capabilities to access individual elements or subarrays within a multidimensional array.  You can use multiple indices (one for each dimension) to specify the element you want to access.  Slicing allows you to extract portions of an array.\n",
        "\n",
        "4. Array Operations:  NumPy supports a wide variety of mathematical and logical operations that can be applied to entire arrays or subarrays.  These vectorized operations significantly improve performance compared to looping through array elements in standard Python.\n",
        "\n",
        "5. Broadcasting:  NumPy's broadcasting rules allow you to perform operations between arrays of different shapes, as long as their dimensions are compatible.  This simplifies code and improves performance.\n",
        "\n",
        "6. Array Manipulation:  NumPy provides functions for reshaping, transposing, concatenating, splitting, and other manipulations of multidimensional arrays.\n",
        "\n",
        "7. Memory Layout:  NumPy supports different memory layouts (row-major or column-major order) for arrays, offering control over how elements are stored in memory.  This can affect performance, particularly when interacting with other libraries or systems.\n",
        "\n",
        "Example:\n",
        "'''\n",
        "\n",
        "# Create a 2x3 array\n",
        "arr = np.array([[1, 2, 3], [4, 5, 6]])\n",
        "\n",
        "# Accessing array properties\n",
        "print(\"Shape:\", arr.shape)  # Output: (2, 3)\n",
        "print(\"Dimensions:\", arr.ndim)  # Output: 2\n",
        "print(\"Data type:\", arr.dtype)  # Output: int64 (or another integer type)\n",
        "\n",
        "# Accessing individual elements\n",
        "print(\"Element at (0, 1):\", arr[0, 1])  # Output: 2\n",
        "\n",
        "# Slicing\n",
        "print(\"First row:\", arr[0, :])  # Output: [1 2 3]\n",
        "\n",
        "# Operations on the array\n",
        "print(\"Array + 2:\", arr + 2)  # Add 2 to each element\n",
        "\n",
        "\n",
        "# Matrix multiplication (example)\n",
        "matrix1 = np.array([[1, 2], [3, 4]])\n",
        "matrix2 = np.array([[5, 6], [7, 8]])\n",
        "result = np.dot(matrix1, matrix2) # or matrix1 @ matrix2 in Python 3.5+\n",
        "print(\"Matrix Multiplication:\\n\", result)\n"
      ],
      "metadata": {
        "colab": {
          "base_uri": "https://localhost:8080/"
        },
        "id": "PEAAwzUhI1jm",
        "outputId": "9b287c18-66ed-4562-bd97-8e55bce4413c"
      },
      "execution_count": 2,
      "outputs": [
        {
          "output_type": "stream",
          "name": "stdout",
          "text": [
            "Shape: (2, 3)\n",
            "Dimensions: 2\n",
            "Data type: int64\n",
            "Element at (0, 1): 2\n",
            "First row: [1 2 3]\n",
            "Array + 2: [[3 4 5]\n",
            " [6 7 8]]\n",
            "Matrix Multiplication:\n",
            " [[19 22]\n",
            " [43 50]]\n"
          ]
        }
      ]
    },
    {
      "cell_type": "code",
      "source": [
        "#  16. What is the role of Bokeh in data visualization?\n",
        "\n",
        "# Bokeh is a Python library for creating interactive visualizations for modern web browsers.  It's particularly well-suited for large or streaming datasets.\n",
        "\n",
        "# Key features of Bokeh:\n",
        "\n",
        "# 1. Interactive Plots: Bokeh's primary strength is its ability to generate interactive plots that can be explored in a web browser.  Users can zoom, pan, hover over data points for details, and select subsets of data directly within the plot.\n",
        "\n",
        "# 2. Server-Side Applications:  Bokeh can be used to create server-side applications, allowing for dynamic updates and interactions with data in real-time or streaming datasets.\n",
        "\n",
        "# 3. Scalability: Bokeh handles large datasets efficiently and can be used to create visualizations that are highly interactive even with a large number of data points.  Its streaming capabilities are particularly useful for visualizing live or updating data.\n",
        "\n",
        "# 4. Customizable:  While offering convenient high-level functions, Bokeh also provides fine-grained control over plot aesthetics, allowing for detailed customization.\n",
        "\n",
        "# 5. Embeddable: Bokeh plots can be embedded into web pages or dashboards, integrating visualizations seamlessly into web applications.\n",
        "\n",
        "# When to use Bokeh:\n",
        "\n",
        "# - Large datasets where interactivity is important\n",
        "# - Real-time or streaming data visualization\n",
        "# - Interactive dashboards and web applications\n",
        "# - Situations where visualization needs to be embedded into a web environment\n"
      ],
      "metadata": {
        "id": "92uU6ao7I_Ba"
      },
      "execution_count": null,
      "outputs": []
    },
    {
      "cell_type": "code",
      "source": [
        "#17. Explain the difference between apply() and map() in Pandas.\n",
        "\n",
        "import pandas as pd\n",
        "\n",
        "'''\n",
        "Both `apply()` and `map()` in Pandas are used for applying functions to data, but they differ in how they operate and what data structures they work with:\n",
        "\n",
        "**map():**\n",
        "\n",
        "- Primarily used for Series (one-dimensional data).\n",
        "- Applies a function element-wise to a Series.\n",
        "- Can accept a dictionary or a Series as input in addition to a function.\n",
        "- Can be used for mapping values to other values (like replacing categories).\n",
        "\n",
        "**apply():**\n",
        "\n",
        "- Works with both Series and DataFrames.\n",
        "- Applies a function to either a row or column (axis=0 or axis=1) of a DataFrame or element-wise to a Series.\n",
        "- More flexible and versatile than `map()`.\n",
        "- Can handle more complex operations than `map()`.\n",
        "- Useful when you want to compute a result on a row or column (or multiple rows/columns).\n",
        "\n",
        "\n",
        "Example:\n",
        "'''\n",
        "\n",
        "# Sample DataFrame\n",
        "data = {'A': [1, 2, 3], 'B': [4, 5, 6]}\n",
        "df = pd.DataFrame(data)\n",
        "\n",
        "# Using map() to square values in Series 'A'\n",
        "df['A_squared'] = df['A'].map(lambda x: x**2)\n",
        "print(df)\n",
        "\n",
        "# Using apply() to find the sum of values in each row\n",
        "df['row_sum'] = df.apply(lambda row: row['A'] + row['B'], axis=1)  # axis=1 for rows\n",
        "print(df)\n",
        "\n",
        "# Using apply() to a column (similar to map, but more general)\n",
        "df['B_doubled'] = df['B'].apply(lambda x: x * 2)  #axis=0 (the default) for columns\n",
        "df\n"
      ],
      "metadata": {
        "id": "dsD4uyqUJenr"
      },
      "execution_count": null,
      "outputs": []
    },
    {
      "cell_type": "code",
      "source": [
        "# 18. What are some advanced features of NumPy?\n",
        "\n",
        "'''\n",
        "NumPy offers several advanced features beyond basic array operations:\n",
        "\n",
        "1. Structured Arrays:  Structured arrays allow you to store heterogeneous data within a single array. Each element of the array can have multiple fields, each with its own data type.  This is useful for representing complex data structures efficiently.\n",
        "\n",
        "2. Masked Arrays: Masked arrays are used to handle missing or invalid data.  They associate a boolean mask with an array, where `True` indicates a masked (invalid) value.  Calculations with masked arrays automatically ignore the masked values.\n",
        "\n",
        "3. Universal Functions (ufuncs):  Universal functions are functions that operate element-wise on NumPy arrays.  They are highly optimized for performance and provide efficient ways to perform mathematical and logical operations.  Many built-in functions in NumPy are ufuncs (e.g., `sin`, `cos`, `exp`, `add`, `multiply`).\n",
        "\n",
        "4. Linear Algebra: NumPy provides a comprehensive set of linear algebra functions in the `numpy.linalg` module. These functions include matrix multiplication, determinant calculation, eigenvalue decomposition, solving linear equations, and more.\n",
        "\n",
        "5. Random Number Generation: NumPy's random number generation capabilities allow you to create arrays of random numbers from various distributions (uniform, normal, binomial, etc.).  These are widely used in simulations, statistics, and machine learning.\n",
        "\n",
        "6. Fourier Transforms: NumPy includes functions for fast Fourier transforms (FFTs), which are used in signal processing and image analysis.\n",
        "\n",
        "7. Polynomials: The `numpy.polynomial` module provides tools for working with polynomials, including fitting polynomials to data, evaluating polynomials, and manipulating polynomial coefficients.\n",
        "\n",
        "8. Input/Output: NumPy supports various file formats for saving and loading arrays, including text files, binary files, and specialized formats like NumPy's own `.npy` and `.npz` formats.\n",
        "\n",
        "Example (Structured Arrays):\n",
        "'''\n",
        "\n",
        "import numpy as np\n",
        "\n",
        "# Create a structured array\n",
        "data = np.zeros(2, dtype={'names': ('name', 'age', 'weight'),\n",
        "                          'formats': ('U10', 'i4', 'f8')})\n",
        "print(data.dtype)\n",
        "\n",
        "# Populate the structured array\n",
        "data['name'] = ['Alice', 'Bob']\n",
        "data['age'] = [25, 30]\n",
        "data['weight'] = [55.5, 70.2]\n",
        "\n",
        "print(data)\n",
        "print(data['name']) # Access a specific field\n"
      ],
      "metadata": {
        "id": "z64Jf_DJJ36q"
      },
      "execution_count": null,
      "outputs": []
    },
    {
      "cell_type": "code",
      "source": [
        "#19. How does Pandas simplify time series analysis?\n",
        "\n",
        "import pandas as pd\n",
        "\n",
        "'''\n",
        "Pandas simplifies time series analysis in several ways:\n",
        "\n",
        "1. DateTimeIndex: Pandas provides the DateTimeIndex, a specialized index for time series data.  This index allows for efficient time-based indexing, slicing, and resampling.  It's the foundation for much of Pandas' time series functionality.\n",
        "\n",
        "2. Time-Based Indexing and Slicing: You can easily select data based on specific dates, times, or time ranges using the DateTimeIndex.  This simplifies extracting specific time periods or performing time-based filtering.\n",
        "\n",
        "3. Resampling:  Pandas provides powerful resampling capabilities, allowing you to convert time series data from one frequency to another (e.g., from daily data to monthly data). You can aggregate or interpolate data using various methods during resampling.\n",
        "\n",
        "4. Time Series-Specific Functions: Pandas offers a wide range of time series-specific functions, including rolling window calculations (e.g., moving averages), lagging and leading data, and calculating time differences.\n",
        "\n",
        "5. Date/Time Offsets: Pandas supports various date/time offsets (e.g., days, months, years), which simplify shifting or aligning time series data.\n",
        "\n",
        "6. Time Zone Handling: Pandas includes robust time zone handling, allowing you to easily convert time series data between different time zones.\n",
        "\n",
        "\n",
        "Example:\n",
        "'''\n",
        "\n",
        "# Sample time series data\n",
        "dates = pd.to_datetime(['2024-01-01', '2024-01-02', '2024-01-03', '2024-01-04', '2024-01-05'])\n",
        "values = [10, 15, 12, 18, 20]\n",
        "ts = pd.Series(values, index=dates)\n",
        "\n",
        "\n",
        "# Time-based indexing\n",
        "print(\"Value on 2024-01-03:\", ts['2024-01-03'])\n",
        "\n",
        "# Time-based slicing\n",
        "print(\"\\nData from 2024-01-02 to 2024-01-04:\\n\", ts['2024-01-02':'2024-01-04'])\n",
        "\n",
        "# Resampling to daily frequency\n",
        "print(\"\\nResampled to daily:\\n\", ts.resample('D').mean()) # Aggregating with mean\n",
        "\n",
        "# Resampling to weekly frequency\n",
        "print(\"\\nResampled to weekly:\\n\", ts.resample('W').sum()) # Aggregating with sum\n",
        "\n",
        "# Rolling window calculation\n",
        "print(\"\\n3-day moving average:\\n\", ts.rolling(window=3).mean())\n"
      ],
      "metadata": {
        "id": "xhU3vlL4J30B"
      },
      "execution_count": null,
      "outputs": []
    },
    {
      "cell_type": "code",
      "source": [
        "#20.  What is the role of a pivot table in Pandas?\n",
        "\n",
        "import pandas as pd\n",
        "\n",
        "# Sample DataFrame\n",
        "data = {'Category': ['A', 'B', 'A', 'B', 'C', 'A'],\n",
        "        'Value': [10, 15, 20, 25, 30, 35],\n",
        "        'Region': ['North', 'South', 'North', 'East', 'West', 'North']}\n",
        "df = pd.DataFrame(data)\n",
        "\n",
        "# Create a pivot table\n",
        "pivot_table = pd.pivot_table(df, values='Value', index='Category', columns='Region', aggfunc='sum')\n",
        "\n",
        "pivot_table\n"
      ],
      "metadata": {
        "id": "E6q6rd2mKOwZ"
      },
      "execution_count": null,
      "outputs": []
    },
    {
      "cell_type": "code",
      "source": [
        "#22. What are some common use cases for Seaborn?\n",
        "\n",
        "import pandas as pd\n",
        "import matplotlib.pyplot as plt\n",
        "import numpy as np\n",
        "# 22. Common Use Cases for Seaborn\n",
        "\n",
        "'''\n",
        "Seaborn is a powerful data visualization library built on top of Matplotlib. It excels at creating informative and visually appealing statistical graphics.  Here are some common use cases:\n",
        "\n",
        "1. Exploring Relationships between Variables:\n",
        "\n",
        "   - Scatter plots (`scatterplot`, `relplot`): Show the relationship between two numerical variables, optionally colored or sized by a third variable.  Useful for identifying trends, clusters, or outliers.\n",
        "   - Line plots (`lineplot`, `relplot`): Display the trend of one variable over time or another numerical variable.  Excellent for visualizing changes over time or other continuous variables.\n",
        "   - Pair plots (`pairplot`): Visualize the pairwise relationships between multiple variables in a dataset.  Helps identify correlations and patterns among several variables.\n",
        "   - Heatmaps (`heatmap`): Display a correlation matrix or other tabular data using colors to represent values.  Useful for quickly spotting patterns and relationships between many variables.\n",
        "\n",
        "\n",
        "2. Visualizing Distributions:\n",
        "\n",
        "   - Histograms (`histplot`, `displot`): Show the distribution of a single numerical variable.\n",
        "   - Kernel Density Estimation (KDE) plots (`kdeplot`, `displot`):  Provide a smoothed representation of the distribution of a numerical variable.\n",
        "   - Box plots (`boxplot`, `boxenplot`): Show the distribution of a numerical variable across different categories, indicating quartiles, median, and outliers.\n",
        "   - Violin plots (`violinplot`): Similar to box plots, but also show the probability density of the data at different values.\n",
        "\n",
        "3. Comparing Groups:\n",
        "\n",
        "   - Bar plots (`barplot`, `countplot`): Compare the means or counts of a variable across different categories.\n",
        "   - Point plots (`pointplot`): Show the mean and confidence interval of a variable across different categories, useful for highlighting differences between groups.\n",
        "\n",
        "4. Visualizing Regression:\n",
        "\n",
        "   - Regression plots (`regplot`, `lmplot`):  Show the relationship between two numerical variables and fit a regression line to the data.  Great for visualizing linear or non-linear relationships.\n",
        "\n",
        "5. Customizing Plots:\n",
        "\n",
        "   - Seaborn allows for extensive customization of plots (colors, styles, labels, etc.), building on Matplotlib's flexibility.\n",
        "\n",
        "Example (Scatter plot with regression line):\n",
        "'''\n",
        "\n",
        "# Sample Data (replace with your own)\n",
        "data = {'X': np.random.rand(50), 'Y': 2*np.random.rand(50) + 1}\n",
        "df = pd.DataFrame(data)\n",
        "\n",
        "\n",
        "# Create a scatter plot with a regression line\n",
        "sns.regplot(x='X', y='Y', data=df)\n",
        "plt.show()\n",
        "\n",
        "\n"
      ],
      "metadata": {
        "id": "znKrbNlmKZZ2"
      },
      "execution_count": null,
      "outputs": []
    },
    {
      "cell_type": "markdown",
      "source": [
        "#Practicle"
      ],
      "metadata": {
        "id": "HxG7kORELigL"
      }
    },
    {
      "cell_type": "code",
      "source": [
        "#1. How do you create a 2D NumPy array and calculate the sum of each row?\n",
        "import numpy as np\n",
        "\n",
        "arr = np.array([[1, 2, 3],\n",
        "                [4, 5, 6],\n",
        "                [7, 8, 9]])\n",
        "row_sums = np.sum(arr, axis=1)\n",
        "print(row_sums)\n"
      ],
      "metadata": {
        "colab": {
          "base_uri": "https://localhost:8080/"
        },
        "id": "3cZa6gihLhnq",
        "outputId": "551d1583-8bf0-46c3-cf21-c4c82760f45b"
      },
      "execution_count": 3,
      "outputs": [
        {
          "output_type": "stream",
          "name": "stdout",
          "text": [
            "[ 6 15 24]\n"
          ]
        }
      ]
    },
    {
      "cell_type": "code",
      "source": [
        "# 2 Write a Pandas script to find the mean of a specific column in a DataFrame.\n",
        "import pandas as pd\n",
        "\n",
        "data = {\n",
        "    'Name': ['Alice', 'Bob', 'Charlie', 'David'],\n",
        "    'Age': [25, 30, 35, 40],\n",
        "    'Score': [85, 90, 95, 88]\n",
        "}\n",
        "\n",
        "df = pd.DataFrame(data)\n",
        "\n",
        "mean_score = df['Score'].mean()\n",
        "\n",
        "print(\"Mean of 'Score' column:\", mean_score)\n",
        "\n"
      ],
      "metadata": {
        "colab": {
          "base_uri": "https://localhost:8080/"
        },
        "id": "-zmFU9UEMIL9",
        "outputId": "d5f3d2cc-f81b-4f21-b6a7-b9d6bdcc00b0"
      },
      "execution_count": 4,
      "outputs": [
        {
          "output_type": "stream",
          "name": "stdout",
          "text": [
            "Mean of 'Score' column: 89.5\n"
          ]
        }
      ]
    },
    {
      "cell_type": "code",
      "source": [
        "#3. Create a scatter plot using Matplotlib.\n",
        "import matplotlib.pyplot as plt\n",
        "\n",
        "x = [1, 2, 3, 4, 5]\n",
        "y = [2, 4, 6, 8, 10]\n",
        "\n",
        "plt.scatter(x, y)\n",
        "plt.xlabel('X-axis')\n",
        "plt.ylabel('Y-axis')\n",
        "plt.title('Scatter Plot')\n",
        "plt.show()"
      ],
      "metadata": {
        "colab": {
          "base_uri": "https://localhost:8080/",
          "height": 472
        },
        "id": "N82NIswzMfQ1",
        "outputId": "b4308faa-3bc5-4fde-d357-a0b3ed736662"
      },
      "execution_count": 5,
      "outputs": [
        {
          "output_type": "display_data",
          "data": {
            "text/plain": [
              "<Figure size 640x480 with 1 Axes>"
            ],
            "image/png": "[encoded data removed]"
          },
          "metadata": {}
        }
      ]
    },
    {
      "cell_type": "code",
      "source": [
        "# 4. How do you calculate the correlation matrix using Seaborn and visualize it with a heatmap?\n",
        "import pandas as pd\n",
        "import seaborn as sns\n",
        "import matplotlib.pyplot as plt\n",
        "\n",
        "# Sample dataset\n",
        "data = {\n",
        "    'Math': [80, 90, 70, 65, 85],\n",
        "    'Science': [88, 95, 75, 60, 90],\n",
        "    'English': [78, 85, 82, 70, 88],\n",
        "    'History': [72, 80, 65, 60, 75]\n",
        "}\n",
        "\n",
        "df = pd.DataFrame(data)\n",
        "\n",
        "corr_matrix = df.corr()\n",
        "\n",
        "plt.figure(figsize=(8, 6))\n",
        "sns.heatmap(corr_matrix, annot=True, cmap='coolwarm', linewidths=0.5)\n",
        "plt.title(\"Correlation Matrix Heatmap\")\n",
        "plt.show()\n",
        "\n",
        "\n",
        "\n"
      ],
      "metadata": {
        "colab": {
          "base_uri": "https://localhost:8080/",
          "height": 545
        },
        "id": "mvjRgXEJMzR2",
        "outputId": "c6a23553-f8b3-4d62-de65-e0f74cbfca55"
      },
      "execution_count": 6,
      "outputs": [
        {
          "output_type": "display_data",
          "data": {
            "text/plain": [
              "<Figure size 800x600 with 2 Axes>"
            ],
            "image/png": "[encoded data removed]"
          },
          "metadata": {}
        }
      ]
    },
    {
      "cell_type": "code",
      "source": [
        "# 5. Generate a bar plot using Plotly.\n",
        "import plotly.express as px\n",
        "import pandas as pd\n",
        "\n",
        "# Sample data\n",
        "data = {\n",
        "    'Fruits': ['Apples', 'Bananas', 'Cherries', 'Dates'],\n",
        "    'Sales': [150, 200, 130, 90]\n",
        "}\n",
        "\n",
        "df = pd.DataFrame(data)\n",
        "\n",
        "# Create a bar plot\n",
        "fig = px.bar(df, x='Fruits', y='Sales', title='Fruit Sales', color='Fruits')\n",
        "\n",
        "# Show the plot\n",
        "fig.show()\n"
      ],
      "metadata": {
        "colab": {
          "base_uri": "https://localhost:8080/",
          "height": 542
        },
        "id": "7dkaXP0NNWIt",
        "outputId": "46512cc4-ee3c-4ac1-bb55-b68e98977ad0"
      },
      "execution_count": 7,
      "outputs": [
        {
          "output_type": "display_data",
          "data": {
            "text/html": [
              "<html>\n",
              "<head><meta charset=\"utf-8\" /></head>\n",
              "<body>\n",
              "    <div>            <script src=\"https://cdnjs.cloudflare.com/ajax/libs/mathjax/2.7.5/MathJax.js?config=TeX-AMS-MML_SVG\"></script><script type=\"text/javascript\">if (window.MathJax && window.MathJax.Hub && window.MathJax.Hub.Config) {window.MathJax.Hub.Config({SVG: {font: \"STIX-Web\"}});}</script>                <script type=\"text/javascript\">window.PlotlyConfig = {MathJaxConfig: 'local'};</script>\n",
              "        <script charset=\"utf-8\" src=\"https://cdn.plot.ly/plotly-2.35.2.min.js\"></script>                <div id=\"40c58b4e-60dd-471c-b473-70b2183d98ef\" class=\"plotly-graph-div\" style=\"height:525px; width:100%;\"></div>            <script type=\"text/javascript\">                                    window.PLOTLYENV=window.PLOTLYENV || {};                                    if (document.getElementById(\"40c58b4e-60dd-471c-b473-70b2183d98ef\")) {                    Plotly.newPlot(                        \"40c58b4e-60dd-471c-b473-70b2183d98ef\",                        [{\"alignmentgroup\":\"True\",\"hovertemplate\":\"Fruits=%{x}\\u003cbr\\u003eSales=%{y}\\u003cextra\\u003e\\u003c\\u002fextra\\u003e\",\"legendgroup\":\"Apples\",\"marker\":{\"color\":\"#636efa\",\"pattern\":{\"shape\":\"\"}},\"name\":\"Apples\",\"offsetgroup\":\"Apples\",\"orientation\":\"v\",\"showlegend\":true,\"textposition\":\"auto\",\"x\":[\"Apples\"],\"xaxis\":\"x\",\"y\":[150],\"yaxis\":\"y\",\"type\":\"bar\"},{\"alignmentgroup\":\"True\",\"hovertemplate\":\"Fruits=%{x}\\u003cbr\\u003eSales=%{y}\\u003cextra\\u003e\\u003c\\u002fextra\\u003e\",\"legendgroup\":\"Bananas\",\"marker\":{\"color\":\"#EF553B\",\"pattern\":{\"shape\":\"\"}},\"name\":\"Bananas\",\"offsetgroup\":\"Bananas\",\"orientation\":\"v\",\"showlegend\":true,\"textposition\":\"auto\",\"x\":[\"Bananas\"],\"xaxis\":\"x\",\"y\":[200],\"yaxis\":\"y\",\"type\":\"bar\"},{\"alignmentgroup\":\"True\",\"hovertemplate\":\"Fruits=%{x}\\u003cbr\\u003eSales=%{y}\\u003cextra\\u003e\\u003c\\u002fextra\\u003e\",\"legendgroup\":\"Cherries\",\"marker\":{\"color\":\"#00cc96\",\"pattern\":{\"shape\":\"\"}},\"name\":\"Cherries\",\"offsetgroup\":\"Cherries\",\"orientation\":\"v\",\"showlegend\":true,\"textposition\":\"auto\",\"x\":[\"Cherries\"],\"xaxis\":\"x\",\"y\":[130],\"yaxis\":\"y\",\"type\":\"bar\"},{\"alignmentgroup\":\"True\",\"hovertemplate\":\"Fruits=%{x}\\u003cbr\\u003eSales=%{y}\\u003cextra\\u003e\\u003c\\u002fextra\\u003e\",\"legendgroup\":\"Dates\",\"marker\":{\"color\":\"#ab63fa\",\"pattern\":{\"shape\":\"\"}},\"name\":\"Dates\",\"offsetgroup\":\"Dates\",\"orientation\":\"v\",\"showlegend\":true,\"textposition\":\"auto\",\"x\":[\"Dates\"],\"xaxis\":\"x\",\"y\":[90],\"yaxis\":\"y\",\"type\":\"bar\"}],                        {\"template\":{\"data\":{\"histogram2dcontour\":[{\"type\":\"histogram2dcontour\",\"colorbar\":{\"outlinewidth\":0,\"ticks\":\"\"},\"colorscale\":[[0.0,\"#0d0887\"],[0.1111111111111111,\"#46039f\"],[0.2222222222222222,\"#7201a8\"],[0.3333333333333333,\"#9c179e\"],[0.4444444444444444,\"#bd3786\"],[0.5555555555555556,\"#d8576b\"],[0.6666666666666666,\"#ed7953\"],[0.7777777777777778,\"#fb9f3a\"],[0.8888888888888888,\"#fdca26\"],[1.0,\"#f0f921\"]]}],\"choropleth\":[{\"type\":\"choropleth\",\"colorbar\":{\"outlinewidth\":0,\"ticks\":\"\"}}],\"histogram2d\":[{\"type\":\"histogram2d\",\"colorbar\":{\"outlinewidth\":0,\"ticks\":\"\"},\"colorscale\":[[0.0,\"#0d0887\"],[0.1111111111111111,\"#46039f\"],[0.2222222222222222,\"#7201a8\"],[0.3333333333333333,\"#9c179e\"],[0.4444444444444444,\"#bd3786\"],[0.5555555555555556,\"#d8576b\"],[0.6666666666666666,\"#ed7953\"],[0.7777777777777778,\"#fb9f3a\"],[0.8888888888888888,\"#fdca26\"],[1.0,\"#f0f921\"]]}],\"heatmap\":[{\"type\":\"heatmap\",\"colorbar\":{\"outlinewidth\":0,\"ticks\":\"\"},\"colorscale\":[[0.0,\"#0d0887\"],[0.1111111111111111,\"#46039f\"],[0.2222222222222222,\"#7201a8\"],[0.3333333333333333,\"#9c179e\"],[0.4444444444444444,\"#bd3786\"],[0.5555555555555556,\"#d8576b\"],[0.6666666666666666,\"#ed7953\"],[0.7777777777777778,\"#fb9f3a\"],[0.8888888888888888,\"#fdca26\"],[1.0,\"#f0f921\"]]}],\"heatmapgl\":[{\"type\":\"heatmapgl\",\"colorbar\":{\"outlinewidth\":0,\"ticks\":\"\"},\"colorscale\":[[0.0,\"#0d0887\"],[0.1111111111111111,\"#46039f\"],[0.2222222222222222,\"#7201a8\"],[0.3333333333333333,\"#9c179e\"],[0.4444444444444444,\"#bd3786\"],[0.5555555555555556,\"#d8576b\"],[0.6666666666666666,\"#ed7953\"],[0.7777777777777778,\"#fb9f3a\"],[0.8888888888888888,\"#fdca26\"],[1.0,\"#f0f921\"]]}],\"contourcarpet\":[{\"type\":\"contourcarpet\",\"colorbar\":{\"outlinewidth\":0,\"ticks\":\"\"}}],\"contour\":[{\"type\":\"contour\",\"colorbar\":{\"outlinewidth\":0,\"ticks\":\"\"},\"colorscale\":[[0.0,\"#0d0887\"],[0.1111111111111111,\"#46039f\"],[0.2222222222222222,\"#7201a8\"],[0.3333333333333333,\"#9c179e\"],[0.4444444444444444,\"#bd3786\"],[0.5555555555555556,\"#d8576b\"],[0.6666666666666666,\"#ed7953\"],[0.7777777777777778,\"#fb9f3a\"],[0.8888888888888888,\"#fdca26\"],[1.0,\"#f0f921\"]]}],\"surface\":[{\"type\":\"surface\",\"colorbar\":{\"outlinewidth\":0,\"ticks\":\"\"},\"colorscale\":[[0.0,\"#0d0887\"],[0.1111111111111111,\"#46039f\"],[0.2222222222222222,\"#7201a8\"],[0.3333333333333333,\"#9c179e\"],[0.4444444444444444,\"#bd3786\"],[0.5555555555555556,\"#d8576b\"],[0.6666666666666666,\"#ed7953\"],[0.7777777777777778,\"#fb9f3a\"],[0.8888888888888888,\"#fdca26\"],[1.0,\"#f0f921\"]]}],\"mesh3d\":[{\"type\":\"mesh3d\",\"colorbar\":{\"outlinewidth\":0,\"ticks\":\"\"}}],\"scatter\":[{\"fillpattern\":{\"fillmode\":\"overlay\",\"size\":10,\"solidity\":0.2},\"type\":\"scatter\"}],\"parcoords\":[{\"type\":\"parcoords\",\"line\":{\"colorbar\":{\"outlinewidth\":0,\"ticks\":\"\"}}}],\"scatterpolargl\":[{\"type\":\"scatterpolargl\",\"marker\":{\"colorbar\":{\"outlinewidth\":0,\"ticks\":\"\"}}}],\"bar\":[{\"error_x\":{\"color\":\"#2a3f5f\"},\"error_y\":{\"color\":\"#2a3f5f\"},\"marker\":{\"line\":{\"color\":\"#E5ECF6\",\"width\":0.5},\"pattern\":{\"fillmode\":\"overlay\",\"size\":10,\"solidity\":0.2}},\"type\":\"bar\"}],\"scattergeo\":[{\"type\":\"scattergeo\",\"marker\":{\"colorbar\":{\"outlinewidth\":0,\"ticks\":\"\"}}}],\"scatterpolar\":[{\"type\":\"scatterpolar\",\"marker\":{\"colorbar\":{\"outlinewidth\":0,\"ticks\":\"\"}}}],\"histogram\":[{\"marker\":{\"pattern\":{\"fillmode\":\"overlay\",\"size\":10,\"solidity\":0.2}},\"type\":\"histogram\"}],\"scattergl\":[{\"type\":\"scattergl\",\"marker\":{\"colorbar\":{\"outlinewidth\":0,\"ticks\":\"\"}}}],\"scatter3d\":[{\"type\":\"scatter3d\",\"line\":{\"colorbar\":{\"outlinewidth\":0,\"ticks\":\"\"}},\"marker\":{\"colorbar\":{\"outlinewidth\":0,\"ticks\":\"\"}}}],\"scattermapbox\":[{\"type\":\"scattermapbox\",\"marker\":{\"colorbar\":{\"outlinewidth\":0,\"ticks\":\"\"}}}],\"scatterternary\":[{\"type\":\"scatterternary\",\"marker\":{\"colorbar\":{\"outlinewidth\":0,\"ticks\":\"\"}}}],\"scattercarpet\":[{\"type\":\"scattercarpet\",\"marker\":{\"colorbar\":{\"outlinewidth\":0,\"ticks\":\"\"}}}],\"carpet\":[{\"aaxis\":{\"endlinecolor\":\"#2a3f5f\",\"gridcolor\":\"white\",\"linecolor\":\"white\",\"minorgridcolor\":\"white\",\"startlinecolor\":\"#2a3f5f\"},\"baxis\":{\"endlinecolor\":\"#2a3f5f\",\"gridcolor\":\"white\",\"linecolor\":\"white\",\"minorgridcolor\":\"white\",\"startlinecolor\":\"#2a3f5f\"},\"type\":\"carpet\"}],\"table\":[{\"cells\":{\"fill\":{\"color\":\"#EBF0F8\"},\"line\":{\"color\":\"white\"}},\"header\":{\"fill\":{\"color\":\"#C8D4E3\"},\"line\":{\"color\":\"white\"}},\"type\":\"table\"}],\"barpolar\":[{\"marker\":{\"line\":{\"color\":\"#E5ECF6\",\"width\":0.5},\"pattern\":{\"fillmode\":\"overlay\",\"size\":10,\"solidity\":0.2}},\"type\":\"barpolar\"}],\"pie\":[{\"automargin\":true,\"type\":\"pie\"}]},\"layout\":{\"autotypenumbers\":\"strict\",\"colorway\":[\"#636efa\",\"#EF553B\",\"#00cc96\",\"#ab63fa\",\"#FFA15A\",\"#19d3f3\",\"#FF6692\",\"#B6E880\",\"#FF97FF\",\"#FECB52\"],\"font\":{\"color\":\"#2a3f5f\"},\"hovermode\":\"closest\",\"hoverlabel\":{\"align\":\"left\"},\"paper_bgcolor\":\"white\",\"plot_bgcolor\":\"#E5ECF6\",\"polar\":{\"bgcolor\":\"#E5ECF6\",\"angularaxis\":{\"gridcolor\":\"white\",\"linecolor\":\"white\",\"ticks\":\"\"},\"radialaxis\":{\"gridcolor\":\"white\",\"linecolor\":\"white\",\"ticks\":\"\"}},\"ternary\":{\"bgcolor\":\"#E5ECF6\",\"aaxis\":{\"gridcolor\":\"white\",\"linecolor\":\"white\",\"ticks\":\"\"},\"baxis\":{\"gridcolor\":\"white\",\"linecolor\":\"white\",\"ticks\":\"\"},\"caxis\":{\"gridcolor\":\"white\",\"linecolor\":\"white\",\"ticks\":\"\"}},\"coloraxis\":{\"colorbar\":{\"outlinewidth\":0,\"ticks\":\"\"}},\"colorscale\":{\"sequential\":[[0.0,\"#0d0887\"],[0.1111111111111111,\"#46039f\"],[0.2222222222222222,\"#7201a8\"],[0.3333333333333333,\"#9c179e\"],[0.4444444444444444,\"#bd3786\"],[0.5555555555555556,\"#d8576b\"],[0.6666666666666666,\"#ed7953\"],[0.7777777777777778,\"#fb9f3a\"],[0.8888888888888888,\"#fdca26\"],[1.0,\"#f0f921\"]],\"sequentialminus\":[[0.0,\"#0d0887\"],[0.1111111111111111,\"#46039f\"],[0.2222222222222222,\"#7201a8\"],[0.3333333333333333,\"#9c179e\"],[0.4444444444444444,\"#bd3786\"],[0.5555555555555556,\"#d8576b\"],[0.6666666666666666,\"#ed7953\"],[0.7777777777777778,\"#fb9f3a\"],[0.8888888888888888,\"#fdca26\"],[1.0,\"#f0f921\"]],\"diverging\":[[0,\"#8e0152\"],[0.1,\"#c51b7d\"],[0.2,\"#de77ae\"],[0.3,\"#f1b6da\"],[0.4,\"#fde0ef\"],[0.5,\"#f7f7f7\"],[0.6,\"#e6f5d0\"],[0.7,\"#b8e186\"],[0.8,\"#7fbc41\"],[0.9,\"#4d9221\"],[1,\"#276419\"]]},\"xaxis\":{\"gridcolor\":\"white\",\"linecolor\":\"white\",\"ticks\":\"\",\"title\":{\"standoff\":15},\"zerolinecolor\":\"white\",\"automargin\":true,\"zerolinewidth\":2},\"yaxis\":{\"gridcolor\":\"white\",\"linecolor\":\"white\",\"ticks\":\"\",\"title\":{\"standoff\":15},\"zerolinecolor\":\"white\",\"automargin\":true,\"zerolinewidth\":2},\"scene\":{\"xaxis\":{\"backgroundcolor\":\"#E5ECF6\",\"gridcolor\":\"white\",\"linecolor\":\"white\",\"showbackground\":true,\"ticks\":\"\",\"zerolinecolor\":\"white\",\"gridwidth\":2},\"yaxis\":{\"backgroundcolor\":\"#E5ECF6\",\"gridcolor\":\"white\",\"linecolor\":\"white\",\"showbackground\":true,\"ticks\":\"\",\"zerolinecolor\":\"white\",\"gridwidth\":2},\"zaxis\":{\"backgroundcolor\":\"#E5ECF6\",\"gridcolor\":\"white\",\"linecolor\":\"white\",\"showbackground\":true,\"ticks\":\"\",\"zerolinecolor\":\"white\",\"gridwidth\":2}},\"shapedefaults\":{\"line\":{\"color\":\"#2a3f5f\"}},\"annotationdefaults\":{\"arrowcolor\":\"#2a3f5f\",\"arrowhead\":0,\"arrowwidth\":1},\"geo\":{\"bgcolor\":\"white\",\"landcolor\":\"#E5ECF6\",\"subunitcolor\":\"white\",\"showland\":true,\"showlakes\":true,\"lakecolor\":\"white\"},\"title\":{\"x\":0.05},\"mapbox\":{\"style\":\"light\"}}},\"xaxis\":{\"anchor\":\"y\",\"domain\":[0.0,1.0],\"title\":{\"text\":\"Fruits\"},\"categoryorder\":\"array\",\"categoryarray\":[\"Apples\",\"Bananas\",\"Cherries\",\"Dates\"]},\"yaxis\":{\"anchor\":\"x\",\"domain\":[0.0,1.0],\"title\":{\"text\":\"Sales\"}},\"legend\":{\"title\":{\"text\":\"Fruits\"},\"tracegroupgap\":0},\"title\":{\"text\":\"Fruit Sales\"},\"barmode\":\"relative\"},                        {\"responsive\": true}                    ).then(function(){\n",
              "                            \n",
              "var gd = document.getElementById('40c58b4e-60dd-471c-b473-70b2183d98ef');\n",
              "var x = new MutationObserver(function (mutations, observer) {{\n",
              "        var display = window.getComputedStyle(gd).display;\n",
              "        if (!display || display === 'none') {{\n",
              "            console.log([gd, 'removed!']);\n",
              "            Plotly.purge(gd);\n",
              "            observer.disconnect();\n",
              "        }}\n",
              "}});\n",
              "\n",
              "// Listen for the removal of the full notebook cells\n",
              "var notebookContainer = gd.closest('#notebook-container');\n",
              "if (notebookContainer) {{\n",
              "    x.observe(notebookContainer, {childList: true});\n",
              "}}\n",
              "\n",
              "// Listen for the clearing of the current output cell\n",
              "var outputEl = gd.closest('.output');\n",
              "if (outputEl) {{\n",
              "    x.observe(outputEl, {childList: true});\n",
              "}}\n",
              "\n",
              "                        })                };                            </script>        </div>\n",
              "</body>\n",
              "</html>"
            ]
          },
          "metadata": {}
        }
      ]
    },
    {
      "cell_type": "markdown",
      "source": [
        "\n"
      ],
      "metadata": {
        "id": "pRd0V1goMtLX"
      }
    },
    {
      "cell_type": "code",
      "source": [
        "# 6. Create a DataFrame and add a new column based on an existing column\n",
        "\n",
        "import pandas as pd\n",
        "\n",
        "data = {\n",
        "    'Name': ['Alice', 'Bob', 'Charlie', 'David'],\n",
        "    'Score': [85, 92, 58, 76]\n",
        "}\n",
        "\n",
        "df = pd.DataFrame(data)\n",
        "\n",
        "df['Result'] = df['Score'].apply(lambda x: 'Pass' if x >= 60 else 'Fail')\n",
        "\n",
        "print(df)\n"
      ],
      "metadata": {
        "colab": {
          "base_uri": "https://localhost:8080/"
        },
        "id": "Pyg9ah9VNtlX",
        "outputId": "1d3dbc5c-c51e-444c-c003-9637919cadde"
      },
      "execution_count": 8,
      "outputs": [
        {
          "output_type": "stream",
          "name": "stdout",
          "text": [
            "      Name  Score Result\n",
            "0    Alice     85   Pass\n",
            "1      Bob     92   Pass\n",
            "2  Charlie     58   Fail\n",
            "3    David     76   Pass\n"
          ]
        }
      ]
    },
    {
      "cell_type": "code",
      "source": [
        "# 7. Write a program to perform element-wise multiplication of two NumPy arrays.\n",
        "\n",
        "import numpy as np\n",
        "\n",
        "# Create two NumPy arrays\n",
        "a = np.array([1, 2, 3, 4])\n",
        "b = np.array([10, 20, 30, 40])\n",
        "\n",
        "# Element-wise multiplication\n",
        "result = a * b\n",
        "\n",
        "print(\"Array A:\", a)\n",
        "print(\"Array B:\", b)\n",
        "print(\"Element-wise Multiplication:\", result)\n"
      ],
      "metadata": {
        "colab": {
          "base_uri": "https://localhost:8080/"
        },
        "id": "3jNlUEhaN-TR",
        "outputId": "3c740163-2185-46c2-c33f-15a77622e374"
      },
      "execution_count": 10,
      "outputs": [
        {
          "output_type": "stream",
          "name": "stdout",
          "text": [
            "Array A: [1 2 3 4]\n",
            "Array B: [10 20 30 40]\n",
            "Element-wise Multiplication: [ 10  40  90 160]\n"
          ]
        }
      ]
    },
    {
      "cell_type": "code",
      "source": [
        "# 8. Create a line plot with multiple lines using Matplotlib.\n",
        "import matplotlib.pyplot as plt\n",
        "\n",
        "# Sample data\n",
        "x = [1, 2, 3, 4, 5]\n",
        "y1 = [2, 4, 6, 8, 10]\n",
        "y2 = [1, 3, 5, 7, 9]\n",
        "y3 = [5, 3, 4, 2, 1]\n",
        "\n",
        "# Create the line plot\n",
        "plt.plot(x, y1, label='Line 1 - Doubles', color='blue', marker='o')\n",
        "plt.plot(x, y2, label='Line 2 - Odds', color='green', linestyle='--')\n",
        "plt.plot(x, y3, label='Line 3 - Random', color='red', linestyle='-.')\n",
        "\n",
        "# Add titles and labels\n",
        "plt.title(\"Multiple Line Plot Example\")\n",
        "plt.xlabel(\"X Axis\")\n",
        "plt.ylabel(\"Y Axis\")\n",
        "\n",
        "# Show legend\n",
        "plt.legend()\n",
        "\n",
        "# Display the plot\n",
        "plt.grid\n"
      ],
      "metadata": {
        "colab": {
          "base_uri": "https://localhost:8080/",
          "height": 659
        },
        "id": "XvKDPAo1OKc2",
        "outputId": "bf029b27-bafe-47ed-9e36-3eb3db5d1f91"
      },
      "execution_count": 11,
      "outputs": [
        {
          "output_type": "execute_result",
          "data": {
            "text/plain": [
              "<function matplotlib.pyplot.grid(visible: 'bool | None' = None, which: \"Literal['major', 'minor', 'both']\" = 'major', axis: \"Literal['both', 'x', 'y']\" = 'both', **kwargs) -> 'None'>"
            ],
            "text/html": [
              "<div style=\"max-width:800px; border: 1px solid var(--colab-border-color);\"><style>\n",
              "      pre.function-repr-contents {\n",
              "        overflow-x: auto;\n",
              "        padding: 8px 12px;\n",
              "        max-height: 500px;\n",
              "      }\n",
              "\n",
              "      pre.function-repr-contents.function-repr-contents-collapsed {\n",
              "        cursor: pointer;\n",
              "        max-height: 100px;\n",
              "      }\n",
              "    </style>\n",
              "    <pre style=\"white-space: initial; background:\n",
              "         var(--colab-secondary-surface-color); padding: 8px 12px;\n",
              "         border-bottom: 1px solid var(--colab-border-color);\"><b>matplotlib.pyplot.grid</b><br/>def grid(visible: bool | None=None, which: Literal[&#x27;major&#x27;, &#x27;minor&#x27;, &#x27;both&#x27;]=&#x27;major&#x27;, axis: Literal[&#x27;both&#x27;, &#x27;x&#x27;, &#x27;y&#x27;]=&#x27;both&#x27;, **kwargs) -&gt; None</pre><pre class=\"function-repr-contents function-repr-contents-collapsed\" style=\"\"><a class=\"filepath\" style=\"display:none\" href=\"#\">/usr/local/lib/python3.11/dist-packages/matplotlib/pyplot.py</a>Configure the grid lines.\n",
              "\n",
              "Parameters\n",
              "----------\n",
              "visible : bool or None, optional\n",
              "    Whether to show the grid lines.  If any *kwargs* are supplied, it\n",
              "    is assumed you want the grid on and *visible* will be set to True.\n",
              "\n",
              "    If *visible* is *None* and there are no *kwargs*, this toggles the\n",
              "    visibility of the lines.\n",
              "\n",
              "which : {&#x27;major&#x27;, &#x27;minor&#x27;, &#x27;both&#x27;}, optional\n",
              "    The grid lines to apply the changes on.\n",
              "\n",
              "axis : {&#x27;both&#x27;, &#x27;x&#x27;, &#x27;y&#x27;}, optional\n",
              "    The axis to apply the changes on.\n",
              "\n",
              "**kwargs : `~matplotlib.lines.Line2D` properties\n",
              "    Define the line properties of the grid, e.g.::\n",
              "\n",
              "        grid(color=&#x27;r&#x27;, linestyle=&#x27;-&#x27;, linewidth=2)\n",
              "\n",
              "    Valid keyword arguments are:\n",
              "\n",
              "    Properties:\n",
              "    agg_filter: a filter function, which takes a (m, n, 3) float array and a dpi value, and returns a (m, n, 3) array and two offsets from the bottom left corner of the image\n",
              "    alpha: scalar or None\n",
              "    animated: bool\n",
              "    antialiased or aa: bool\n",
              "    clip_box: `~matplotlib.transforms.BboxBase` or None\n",
              "    clip_on: bool\n",
              "    clip_path: Patch or (Path, Transform) or None\n",
              "    color or c: :mpltype:`color`\n",
              "    dash_capstyle: `.CapStyle` or {&#x27;butt&#x27;, &#x27;projecting&#x27;, &#x27;round&#x27;}\n",
              "    dash_joinstyle: `.JoinStyle` or {&#x27;miter&#x27;, &#x27;round&#x27;, &#x27;bevel&#x27;}\n",
              "    dashes: sequence of floats (on/off ink in points) or (None, None)\n",
              "    data: (2, N) array or two 1D arrays\n",
              "    drawstyle or ds: {&#x27;default&#x27;, &#x27;steps&#x27;, &#x27;steps-pre&#x27;, &#x27;steps-mid&#x27;, &#x27;steps-post&#x27;}, default: &#x27;default&#x27;\n",
              "    figure: `~matplotlib.figure.Figure` or `~matplotlib.figure.SubFigure`\n",
              "    fillstyle: {&#x27;full&#x27;, &#x27;left&#x27;, &#x27;right&#x27;, &#x27;bottom&#x27;, &#x27;top&#x27;, &#x27;none&#x27;}\n",
              "    gapcolor: :mpltype:`color` or None\n",
              "    gid: str\n",
              "    in_layout: bool\n",
              "    label: object\n",
              "    linestyle or ls: {&#x27;-&#x27;, &#x27;--&#x27;, &#x27;-.&#x27;, &#x27;:&#x27;, &#x27;&#x27;, (offset, on-off-seq), ...}\n",
              "    linewidth or lw: float\n",
              "    marker: marker style string, `~.path.Path` or `~.markers.MarkerStyle`\n",
              "    markeredgecolor or mec: :mpltype:`color`\n",
              "    markeredgewidth or mew: float\n",
              "    markerfacecolor or mfc: :mpltype:`color`\n",
              "    markerfacecoloralt or mfcalt: :mpltype:`color`\n",
              "    markersize or ms: float\n",
              "    markevery: None or int or (int, int) or slice or list[int] or float or (float, float) or list[bool]\n",
              "    mouseover: bool\n",
              "    path_effects: list of `.AbstractPathEffect`\n",
              "    picker: float or callable[[Artist, Event], tuple[bool, dict]]\n",
              "    pickradius: float\n",
              "    rasterized: bool\n",
              "    sketch_params: (scale: float, length: float, randomness: float)\n",
              "    snap: bool or None\n",
              "    solid_capstyle: `.CapStyle` or {&#x27;butt&#x27;, &#x27;projecting&#x27;, &#x27;round&#x27;}\n",
              "    solid_joinstyle: `.JoinStyle` or {&#x27;miter&#x27;, &#x27;round&#x27;, &#x27;bevel&#x27;}\n",
              "    transform: unknown\n",
              "    url: str\n",
              "    visible: bool\n",
              "    xdata: 1D array\n",
              "    ydata: 1D array\n",
              "    zorder: float\n",
              "\n",
              "Notes\n",
              "-----\n",
              "\n",
              ".. note::\n",
              "\n",
              "    This is the :ref:`pyplot wrapper &lt;pyplot_interface&gt;` for `.axes.Axes.grid`.\n",
              "\n",
              "The axis is drawn as a unit, so the effective zorder for drawing the\n",
              "grid is determined by the zorder of each axis, not by the zorder of the\n",
              "`.Line2D` objects comprising the grid.  Therefore, to set grid zorder,\n",
              "use `.set_axisbelow` or, for more control, call the\n",
              "`~.Artist.set_zorder` method of each axis.</pre>\n",
              "      <script>\n",
              "      if (google.colab.kernel.accessAllowed && google.colab.files && google.colab.files.view) {\n",
              "        for (const element of document.querySelectorAll('.filepath')) {\n",
              "          element.style.display = 'block'\n",
              "          element.onclick = (event) => {\n",
              "            event.preventDefault();\n",
              "            event.stopPropagation();\n",
              "            google.colab.files.view(element.textContent, 3380);\n",
              "          };\n",
              "        }\n",
              "      }\n",
              "      for (const element of document.querySelectorAll('.function-repr-contents')) {\n",
              "        element.onclick = (event) => {\n",
              "          event.preventDefault();\n",
              "          event.stopPropagation();\n",
              "          element.classList.toggle('function-repr-contents-collapsed');\n",
              "        };\n",
              "      }\n",
              "      </script>\n",
              "      </div>"
            ]
          },
          "metadata": {},
          "execution_count": 11
        },
        {
          "output_type": "display_data",
          "data": {
            "text/plain": [
              "<Figure size 640x480 with 1 Axes>"
            ],
            "image/png": "[encoded data removed]"
          },
          "metadata": {}
        }
      ]
    },
    {
      "cell_type": "code",
      "source": [
        "# 10. Create a histogram using Seaborn to visualize a distribution.\n",
        "import seaborn as sns\n",
        "import matplotlib.pyplot as plt\n",
        "\n",
        "# Sample data\n",
        "data = [22, 45, 56, 23, 45, 67, 78, 45, 56, 67, 89, 12, 43, 65, 89, 23, 56]\n",
        "\n",
        "# Create a Seaborn histogram\n",
        "sns.histplot(data, bins=10, kde=True, color='blue', edgecolor='black')\n",
        "\n",
        "# Add titles and labels\n",
        "plt.title(\"Histogram with Seaborn\")\n",
        "plt.xlabel(\"Value\")\n",
        "plt.ylabel(\"Frequency\")\n",
        "\n",
        "# Show the plot\n",
        "plt.show()\n"
      ],
      "metadata": {
        "colab": {
          "base_uri": "https://localhost:8080/",
          "height": 472
        },
        "id": "PQTyzr7bOf6X",
        "outputId": "9b2ef587-5d23-42d2-d66e-81fbf2233250"
      },
      "execution_count": 12,
      "outputs": [
        {
          "output_type": "display_data",
          "data": {
            "text/plain": [
              "<Figure size 640x480 with 1 Axes>"
            ],
            "image/png": "[encoded data removed]"
          },
          "metadata": {}
        }
      ]
    },
    {
      "cell_type": "code",
      "source": [
        "# 11. Perform matrix multiplication using NumPy.\n",
        "import numpy as np\n",
        "\n",
        "# Create two 2D arrays (matrices)\n",
        "A = np.array([[1, 2],\n",
        "              [3, 4]])\n",
        "\n",
        "B = np.array([[5, 6],\n",
        "              [7, 8]])\n",
        "\n",
        "# Perform matrix multiplication using np.dot()\n",
        "result = np.dot(A, B)\n",
        "\n",
        "# Alternatively, using the @ operator (Python 3.5+)\n",
        "# result = A @ B\n",
        "\n",
        "print(\"Matrix A:\\n\", A)\n",
        "print(\"Matrix B:\\n\", B)\n",
        "print(\"Matrix Multiplication Result:\\n\", result)\n"
      ],
      "metadata": {
        "colab": {
          "base_uri": "https://localhost:8080/"
        },
        "id": "OQ_l90dAOsqL",
        "outputId": "03812b29-7980-45d3-9266-cc464db8fcff"
      },
      "execution_count": 13,
      "outputs": [
        {
          "output_type": "stream",
          "name": "stdout",
          "text": [
            "Matrix A:\n",
            " [[1 2]\n",
            " [3 4]]\n",
            "Matrix B:\n",
            " [[5 6]\n",
            " [7 8]]\n",
            "Matrix Multiplication Result:\n",
            " [[19 22]\n",
            " [43 50]]\n"
          ]
        }
      ]
    },
    {
      "cell_type": "code",
      "source": [
        "# 12. Use Pandas to load a CSV file and display its first 5 rows.\n",
        "import pandas as pd\n",
        "\n",
        "# Load the CSV file\n",
        "df = pd.read_csv('path_to_your_file.csv')\n",
        "\n",
        "# Display the first 5 rows\n",
        "print(df.head())\n"
      ],
      "metadata": {
        "colab": {
          "base_uri": "https://localhost:8080/",
          "height": 389
        },
        "id": "tPtNI4LGO7Q_",
        "outputId": "df431e9e-ea12-4bbc-9e78-794db9ffe1ca"
      },
      "execution_count": 15,
      "outputs": [
        {
          "output_type": "error",
          "ename": "FileNotFoundError",
          "evalue": "[Errno 2] No such file or directory: 'path_to_your_file.csv'",
          "traceback": [
            "\u001b[0;31m---------------------------------------------------------------------------\u001b[0m",
            "\u001b[0;31mFileNotFoundError\u001b[0m                         Traceback (most recent call last)",
            "\u001b[0;32m<ipython-input-15-06e63718d473>\u001b[0m in \u001b[0;36m<cell line: 0>\u001b[0;34m()\u001b[0m\n\u001b[1;32m      3\u001b[0m \u001b[0;34m\u001b[0m\u001b[0m\n\u001b[1;32m      4\u001b[0m \u001b[0;31m# Load the CSV file\u001b[0m\u001b[0;34m\u001b[0m\u001b[0;34m\u001b[0m\u001b[0m\n\u001b[0;32m----> 5\u001b[0;31m \u001b[0mdf\u001b[0m \u001b[0;34m=\u001b[0m \u001b[0mpd\u001b[0m\u001b[0;34m.\u001b[0m\u001b[0mread_csv\u001b[0m\u001b[0;34m(\u001b[0m\u001b[0;34m'path_to_your_file.csv'\u001b[0m\u001b[0;34m)\u001b[0m\u001b[0;34m\u001b[0m\u001b[0;34m\u001b[0m\u001b[0m\n\u001b[0m\u001b[1;32m      6\u001b[0m \u001b[0;34m\u001b[0m\u001b[0m\n\u001b[1;32m      7\u001b[0m \u001b[0;31m# Display the first 5 rows\u001b[0m\u001b[0;34m\u001b[0m\u001b[0;34m\u001b[0m\u001b[0m\n",
            "\u001b[0;32m/usr/local/lib/python3.11/dist-packages/pandas/io/parsers/readers.py\u001b[0m in \u001b[0;36mread_csv\u001b[0;34m(filepath_or_buffer, sep, delimiter, header, names, index_col, usecols, dtype, engine, converters, true_values, false_values, skipinitialspace, skiprows, skipfooter, nrows, na_values, keep_default_na, na_filter, verbose, skip_blank_lines, parse_dates, infer_datetime_format, keep_date_col, date_parser, date_format, dayfirst, cache_dates, iterator, chunksize, compression, thousands, decimal, lineterminator, quotechar, quoting, doublequote, escapechar, comment, encoding, encoding_errors, dialect, on_bad_lines, delim_whitespace, low_memory, memory_map, float_precision, storage_options, dtype_backend)\u001b[0m\n\u001b[1;32m   1024\u001b[0m     \u001b[0mkwds\u001b[0m\u001b[0;34m.\u001b[0m\u001b[0mupdate\u001b[0m\u001b[0;34m(\u001b[0m\u001b[0mkwds_defaults\u001b[0m\u001b[0;34m)\u001b[0m\u001b[0;34m\u001b[0m\u001b[0;34m\u001b[0m\u001b[0m\n\u001b[1;32m   1025\u001b[0m \u001b[0;34m\u001b[0m\u001b[0m\n\u001b[0;32m-> 1026\u001b[0;31m     \u001b[0;32mreturn\u001b[0m \u001b[0m_read\u001b[0m\u001b[0;34m(\u001b[0m\u001b[0mfilepath_or_buffer\u001b[0m\u001b[0;34m,\u001b[0m \u001b[0mkwds\u001b[0m\u001b[0;34m)\u001b[0m\u001b[0;34m\u001b[0m\u001b[0;34m\u001b[0m\u001b[0m\n\u001b[0m\u001b[1;32m   1027\u001b[0m \u001b[0;34m\u001b[0m\u001b[0m\n\u001b[1;32m   1028\u001b[0m \u001b[0;34m\u001b[0m\u001b[0m\n",
            "\u001b[0;32m/usr/local/lib/python3.11/dist-packages/pandas/io/parsers/readers.py\u001b[0m in \u001b[0;36m_read\u001b[0;34m(filepath_or_buffer, kwds)\u001b[0m\n\u001b[1;32m    618\u001b[0m \u001b[0;34m\u001b[0m\u001b[0m\n\u001b[1;32m    619\u001b[0m     \u001b[0;31m# Create the parser.\u001b[0m\u001b[0;34m\u001b[0m\u001b[0;34m\u001b[0m\u001b[0m\n\u001b[0;32m--> 620\u001b[0;31m     \u001b[0mparser\u001b[0m \u001b[0;34m=\u001b[0m \u001b[0mTextFileReader\u001b[0m\u001b[0;34m(\u001b[0m\u001b[0mfilepath_or_buffer\u001b[0m\u001b[0;34m,\u001b[0m \u001b[0;34m**\u001b[0m\u001b[0mkwds\u001b[0m\u001b[0;34m)\u001b[0m\u001b[0;34m\u001b[0m\u001b[0;34m\u001b[0m\u001b[0m\n\u001b[0m\u001b[1;32m    621\u001b[0m \u001b[0;34m\u001b[0m\u001b[0m\n\u001b[1;32m    622\u001b[0m     \u001b[0;32mif\u001b[0m \u001b[0mchunksize\u001b[0m \u001b[0;32mor\u001b[0m \u001b[0miterator\u001b[0m\u001b[0;34m:\u001b[0m\u001b[0;34m\u001b[0m\u001b[0;34m\u001b[0m\u001b[0m\n",
            "\u001b[0;32m/usr/local/lib/python3.11/dist-packages/pandas/io/parsers/readers.py\u001b[0m in \u001b[0;36m__init__\u001b[0;34m(self, f, engine, **kwds)\u001b[0m\n\u001b[1;32m   1618\u001b[0m \u001b[0;34m\u001b[0m\u001b[0m\n\u001b[1;32m   1619\u001b[0m         \u001b[0mself\u001b[0m\u001b[0;34m.\u001b[0m\u001b[0mhandles\u001b[0m\u001b[0;34m:\u001b[0m \u001b[0mIOHandles\u001b[0m \u001b[0;34m|\u001b[0m \u001b[0;32mNone\u001b[0m \u001b[0;34m=\u001b[0m \u001b[0;32mNone\u001b[0m\u001b[0;34m\u001b[0m\u001b[0;34m\u001b[0m\u001b[0m\n\u001b[0;32m-> 1620\u001b[0;31m         \u001b[0mself\u001b[0m\u001b[0;34m.\u001b[0m\u001b[0m_engine\u001b[0m \u001b[0;34m=\u001b[0m \u001b[0mself\u001b[0m\u001b[0;34m.\u001b[0m\u001b[0m_make_engine\u001b[0m\u001b[0;34m(\u001b[0m\u001b[0mf\u001b[0m\u001b[0;34m,\u001b[0m \u001b[0mself\u001b[0m\u001b[0;34m.\u001b[0m\u001b[0mengine\u001b[0m\u001b[0;34m)\u001b[0m\u001b[0;34m\u001b[0m\u001b[0;34m\u001b[0m\u001b[0m\n\u001b[0m\u001b[1;32m   1621\u001b[0m \u001b[0;34m\u001b[0m\u001b[0m\n\u001b[1;32m   1622\u001b[0m     \u001b[0;32mdef\u001b[0m \u001b[0mclose\u001b[0m\u001b[0;34m(\u001b[0m\u001b[0mself\u001b[0m\u001b[0;34m)\u001b[0m \u001b[0;34m->\u001b[0m \u001b[0;32mNone\u001b[0m\u001b[0;34m:\u001b[0m\u001b[0;34m\u001b[0m\u001b[0;34m\u001b[0m\u001b[0m\n",
            "\u001b[0;32m/usr/local/lib/python3.11/dist-packages/pandas/io/parsers/readers.py\u001b[0m in \u001b[0;36m_make_engine\u001b[0;34m(self, f, engine)\u001b[0m\n\u001b[1;32m   1878\u001b[0m                 \u001b[0;32mif\u001b[0m \u001b[0;34m\"b\"\u001b[0m \u001b[0;32mnot\u001b[0m \u001b[0;32min\u001b[0m \u001b[0mmode\u001b[0m\u001b[0;34m:\u001b[0m\u001b[0;34m\u001b[0m\u001b[0;34m\u001b[0m\u001b[0m\n\u001b[1;32m   1879\u001b[0m                     \u001b[0mmode\u001b[0m \u001b[0;34m+=\u001b[0m \u001b[0;34m\"b\"\u001b[0m\u001b[0;34m\u001b[0m\u001b[0;34m\u001b[0m\u001b[0m\n\u001b[0;32m-> 1880\u001b[0;31m             self.handles = get_handle(\n\u001b[0m\u001b[1;32m   1881\u001b[0m                 \u001b[0mf\u001b[0m\u001b[0;34m,\u001b[0m\u001b[0;34m\u001b[0m\u001b[0;34m\u001b[0m\u001b[0m\n\u001b[1;32m   1882\u001b[0m                 \u001b[0mmode\u001b[0m\u001b[0;34m,\u001b[0m\u001b[0;34m\u001b[0m\u001b[0;34m\u001b[0m\u001b[0m\n",
            "\u001b[0;32m/usr/local/lib/python3.11/dist-packages/pandas/io/common.py\u001b[0m in \u001b[0;36mget_handle\u001b[0;34m(path_or_buf, mode, encoding, compression, memory_map, is_text, errors, storage_options)\u001b[0m\n\u001b[1;32m    871\u001b[0m         \u001b[0;32mif\u001b[0m \u001b[0mioargs\u001b[0m\u001b[0;34m.\u001b[0m\u001b[0mencoding\u001b[0m \u001b[0;32mand\u001b[0m \u001b[0;34m\"b\"\u001b[0m \u001b[0;32mnot\u001b[0m \u001b[0;32min\u001b[0m \u001b[0mioargs\u001b[0m\u001b[0;34m.\u001b[0m\u001b[0mmode\u001b[0m\u001b[0;34m:\u001b[0m\u001b[0;34m\u001b[0m\u001b[0;34m\u001b[0m\u001b[0m\n\u001b[1;32m    872\u001b[0m             \u001b[0;31m# Encoding\u001b[0m\u001b[0;34m\u001b[0m\u001b[0;34m\u001b[0m\u001b[0m\n\u001b[0;32m--> 873\u001b[0;31m             handle = open(\n\u001b[0m\u001b[1;32m    874\u001b[0m                 \u001b[0mhandle\u001b[0m\u001b[0;34m,\u001b[0m\u001b[0;34m\u001b[0m\u001b[0;34m\u001b[0m\u001b[0m\n\u001b[1;32m    875\u001b[0m                 \u001b[0mioargs\u001b[0m\u001b[0;34m.\u001b[0m\u001b[0mmode\u001b[0m\u001b[0;34m,\u001b[0m\u001b[0;34m\u001b[0m\u001b[0;34m\u001b[0m\u001b[0m\n",
            "\u001b[0;31mFileNotFoundError\u001b[0m: [Errno 2] No such file or directory: 'path_to_your_file.csv'"
          ]
        }
      ]
    },
    {
      "cell_type": "code",
      "source": [
        "# 13. Create a 3D scatter plot using Plotly.\n",
        "import plotly.express as px\n",
        "import pandas as pd\n",
        "\n",
        "# Sample data\n",
        "data = {\n",
        "    'X': [1, 2, 3, 4, 5],\n",
        "    'Y': [10, 11, 12, 13, 14],\n",
        "    'Z': [100, 200, 300, 400, 500]\n",
        "}\n",
        "\n",
        "df = pd.DataFrame(data)\n",
        "\n",
        "# Create a 3D scatter plot\n",
        "fig = px.scatter_3d(df, x='X', y='Y', z='Z', title='3D Scatter Plot Example')\n",
        "\n",
        "# Show the plot\n",
        "fig.show()\n"
      ],
      "metadata": {
        "colab": {
          "base_uri": "https://localhost:8080/",
          "height": 542
        },
        "id": "RMvw4cIVPSwH",
        "outputId": "b543d4f0-2962-4582-ea70-2122326d778d"
      },
      "execution_count": 16,
      "outputs": [
        {
          "output_type": "display_data",
          "data": {
            "text/html": [
              "<html>\n",
              "<head><meta charset=\"utf-8\" /></head>\n",
              "<body>\n",
              "    <div>            <script src=\"https://cdnjs.cloudflare.com/ajax/libs/mathjax/2.7.5/MathJax.js?config=TeX-AMS-MML_SVG\"></script><script type=\"text/javascript\">if (window.MathJax && window.MathJax.Hub && window.MathJax.Hub.Config) {window.MathJax.Hub.Config({SVG: {font: \"STIX-Web\"}});}</script>                <script type=\"text/javascript\">window.PlotlyConfig = {MathJaxConfig: 'local'};</script>\n",
              "        <script charset=\"utf-8\" src=\"https://cdn.plot.ly/plotly-2.35.2.min.js\"></script>                <div id=\"51aea1bc-b224-490a-b54e-a94395f8f93e\" class=\"plotly-graph-div\" style=\"height:525px; width:100%;\"></div>            <script type=\"text/javascript\">                                    window.PLOTLYENV=window.PLOTLYENV || {};                                    if (document.getElementById(\"51aea1bc-b224-490a-b54e-a94395f8f93e\")) {                    Plotly.newPlot(                        \"51aea1bc-b224-490a-b54e-a94395f8f93e\",                        [{\"hovertemplate\":\"X=%{x}\\u003cbr\\u003eY=%{y}\\u003cbr\\u003eZ=%{z}\\u003cextra\\u003e\\u003c\\u002fextra\\u003e\",\"legendgroup\":\"\",\"marker\":{\"color\":\"#636efa\",\"symbol\":\"circle\"},\"mode\":\"markers\",\"name\":\"\",\"scene\":\"scene\",\"showlegend\":false,\"x\":[1,2,3,4,5],\"y\":[10,11,12,13,14],\"z\":[100,200,300,400,500],\"type\":\"scatter3d\"}],                        {\"template\":{\"data\":{\"histogram2dcontour\":[{\"type\":\"histogram2dcontour\",\"colorbar\":{\"outlinewidth\":0,\"ticks\":\"\"},\"colorscale\":[[0.0,\"#0d0887\"],[0.1111111111111111,\"#46039f\"],[0.2222222222222222,\"#7201a8\"],[0.3333333333333333,\"#9c179e\"],[0.4444444444444444,\"#bd3786\"],[0.5555555555555556,\"#d8576b\"],[0.6666666666666666,\"#ed7953\"],[0.7777777777777778,\"#fb9f3a\"],[0.8888888888888888,\"#fdca26\"],[1.0,\"#f0f921\"]]}],\"choropleth\":[{\"type\":\"choropleth\",\"colorbar\":{\"outlinewidth\":0,\"ticks\":\"\"}}],\"histogram2d\":[{\"type\":\"histogram2d\",\"colorbar\":{\"outlinewidth\":0,\"ticks\":\"\"},\"colorscale\":[[0.0,\"#0d0887\"],[0.1111111111111111,\"#46039f\"],[0.2222222222222222,\"#7201a8\"],[0.3333333333333333,\"#9c179e\"],[0.4444444444444444,\"#bd3786\"],[0.5555555555555556,\"#d8576b\"],[0.6666666666666666,\"#ed7953\"],[0.7777777777777778,\"#fb9f3a\"],[0.8888888888888888,\"#fdca26\"],[1.0,\"#f0f921\"]]}],\"heatmap\":[{\"type\":\"heatmap\",\"colorbar\":{\"outlinewidth\":0,\"ticks\":\"\"},\"colorscale\":[[0.0,\"#0d0887\"],[0.1111111111111111,\"#46039f\"],[0.2222222222222222,\"#7201a8\"],[0.3333333333333333,\"#9c179e\"],[0.4444444444444444,\"#bd3786\"],[0.5555555555555556,\"#d8576b\"],[0.6666666666666666,\"#ed7953\"],[0.7777777777777778,\"#fb9f3a\"],[0.8888888888888888,\"#fdca26\"],[1.0,\"#f0f921\"]]}],\"heatmapgl\":[{\"type\":\"heatmapgl\",\"colorbar\":{\"outlinewidth\":0,\"ticks\":\"\"},\"colorscale\":[[0.0,\"#0d0887\"],[0.1111111111111111,\"#46039f\"],[0.2222222222222222,\"#7201a8\"],[0.3333333333333333,\"#9c179e\"],[0.4444444444444444,\"#bd3786\"],[0.5555555555555556,\"#d8576b\"],[0.6666666666666666,\"#ed7953\"],[0.7777777777777778,\"#fb9f3a\"],[0.8888888888888888,\"#fdca26\"],[1.0,\"#f0f921\"]]}],\"contourcarpet\":[{\"type\":\"contourcarpet\",\"colorbar\":{\"outlinewidth\":0,\"ticks\":\"\"}}],\"contour\":[{\"type\":\"contour\",\"colorbar\":{\"outlinewidth\":0,\"ticks\":\"\"},\"colorscale\":[[0.0,\"#0d0887\"],[0.1111111111111111,\"#46039f\"],[0.2222222222222222,\"#7201a8\"],[0.3333333333333333,\"#9c179e\"],[0.4444444444444444,\"#bd3786\"],[0.5555555555555556,\"#d8576b\"],[0.6666666666666666,\"#ed7953\"],[0.7777777777777778,\"#fb9f3a\"],[0.8888888888888888,\"#fdca26\"],[1.0,\"#f0f921\"]]}],\"surface\":[{\"type\":\"surface\",\"colorbar\":{\"outlinewidth\":0,\"ticks\":\"\"},\"colorscale\":[[0.0,\"#0d0887\"],[0.1111111111111111,\"#46039f\"],[0.2222222222222222,\"#7201a8\"],[0.3333333333333333,\"#9c179e\"],[0.4444444444444444,\"#bd3786\"],[0.5555555555555556,\"#d8576b\"],[0.6666666666666666,\"#ed7953\"],[0.7777777777777778,\"#fb9f3a\"],[0.8888888888888888,\"#fdca26\"],[1.0,\"#f0f921\"]]}],\"mesh3d\":[{\"type\":\"mesh3d\",\"colorbar\":{\"outlinewidth\":0,\"ticks\":\"\"}}],\"scatter\":[{\"fillpattern\":{\"fillmode\":\"overlay\",\"size\":10,\"solidity\":0.2},\"type\":\"scatter\"}],\"parcoords\":[{\"type\":\"parcoords\",\"line\":{\"colorbar\":{\"outlinewidth\":0,\"ticks\":\"\"}}}],\"scatterpolargl\":[{\"type\":\"scatterpolargl\",\"marker\":{\"colorbar\":{\"outlinewidth\":0,\"ticks\":\"\"}}}],\"bar\":[{\"error_x\":{\"color\":\"#2a3f5f\"},\"error_y\":{\"color\":\"#2a3f5f\"},\"marker\":{\"line\":{\"color\":\"#E5ECF6\",\"width\":0.5},\"pattern\":{\"fillmode\":\"overlay\",\"size\":10,\"solidity\":0.2}},\"type\":\"bar\"}],\"scattergeo\":[{\"type\":\"scattergeo\",\"marker\":{\"colorbar\":{\"outlinewidth\":0,\"ticks\":\"\"}}}],\"scatterpolar\":[{\"type\":\"scatterpolar\",\"marker\":{\"colorbar\":{\"outlinewidth\":0,\"ticks\":\"\"}}}],\"histogram\":[{\"marker\":{\"pattern\":{\"fillmode\":\"overlay\",\"size\":10,\"solidity\":0.2}},\"type\":\"histogram\"}],\"scattergl\":[{\"type\":\"scattergl\",\"marker\":{\"colorbar\":{\"outlinewidth\":0,\"ticks\":\"\"}}}],\"scatter3d\":[{\"type\":\"scatter3d\",\"line\":{\"colorbar\":{\"outlinewidth\":0,\"ticks\":\"\"}},\"marker\":{\"colorbar\":{\"outlinewidth\":0,\"ticks\":\"\"}}}],\"scattermapbox\":[{\"type\":\"scattermapbox\",\"marker\":{\"colorbar\":{\"outlinewidth\":0,\"ticks\":\"\"}}}],\"scatterternary\":[{\"type\":\"scatterternary\",\"marker\":{\"colorbar\":{\"outlinewidth\":0,\"ticks\":\"\"}}}],\"scattercarpet\":[{\"type\":\"scattercarpet\",\"marker\":{\"colorbar\":{\"outlinewidth\":0,\"ticks\":\"\"}}}],\"carpet\":[{\"aaxis\":{\"endlinecolor\":\"#2a3f5f\",\"gridcolor\":\"white\",\"linecolor\":\"white\",\"minorgridcolor\":\"white\",\"startlinecolor\":\"#2a3f5f\"},\"baxis\":{\"endlinecolor\":\"#2a3f5f\",\"gridcolor\":\"white\",\"linecolor\":\"white\",\"minorgridcolor\":\"white\",\"startlinecolor\":\"#2a3f5f\"},\"type\":\"carpet\"}],\"table\":[{\"cells\":{\"fill\":{\"color\":\"#EBF0F8\"},\"line\":{\"color\":\"white\"}},\"header\":{\"fill\":{\"color\":\"#C8D4E3\"},\"line\":{\"color\":\"white\"}},\"type\":\"table\"}],\"barpolar\":[{\"marker\":{\"line\":{\"color\":\"#E5ECF6\",\"width\":0.5},\"pattern\":{\"fillmode\":\"overlay\",\"size\":10,\"solidity\":0.2}},\"type\":\"barpolar\"}],\"pie\":[{\"automargin\":true,\"type\":\"pie\"}]},\"layout\":{\"autotypenumbers\":\"strict\",\"colorway\":[\"#636efa\",\"#EF553B\",\"#00cc96\",\"#ab63fa\",\"#FFA15A\",\"#19d3f3\",\"#FF6692\",\"#B6E880\",\"#FF97FF\",\"#FECB52\"],\"font\":{\"color\":\"#2a3f5f\"},\"hovermode\":\"closest\",\"hoverlabel\":{\"align\":\"left\"},\"paper_bgcolor\":\"white\",\"plot_bgcolor\":\"#E5ECF6\",\"polar\":{\"bgcolor\":\"#E5ECF6\",\"angularaxis\":{\"gridcolor\":\"white\",\"linecolor\":\"white\",\"ticks\":\"\"},\"radialaxis\":{\"gridcolor\":\"white\",\"linecolor\":\"white\",\"ticks\":\"\"}},\"ternary\":{\"bgcolor\":\"#E5ECF6\",\"aaxis\":{\"gridcolor\":\"white\",\"linecolor\":\"white\",\"ticks\":\"\"},\"baxis\":{\"gridcolor\":\"white\",\"linecolor\":\"white\",\"ticks\":\"\"},\"caxis\":{\"gridcolor\":\"white\",\"linecolor\":\"white\",\"ticks\":\"\"}},\"coloraxis\":{\"colorbar\":{\"outlinewidth\":0,\"ticks\":\"\"}},\"colorscale\":{\"sequential\":[[0.0,\"#0d0887\"],[0.1111111111111111,\"#46039f\"],[0.2222222222222222,\"#7201a8\"],[0.3333333333333333,\"#9c179e\"],[0.4444444444444444,\"#bd3786\"],[0.5555555555555556,\"#d8576b\"],[0.6666666666666666,\"#ed7953\"],[0.7777777777777778,\"#fb9f3a\"],[0.8888888888888888,\"#fdca26\"],[1.0,\"#f0f921\"]],\"sequentialminus\":[[0.0,\"#0d0887\"],[0.1111111111111111,\"#46039f\"],[0.2222222222222222,\"#7201a8\"],[0.3333333333333333,\"#9c179e\"],[0.4444444444444444,\"#bd3786\"],[0.5555555555555556,\"#d8576b\"],[0.6666666666666666,\"#ed7953\"],[0.7777777777777778,\"#fb9f3a\"],[0.8888888888888888,\"#fdca26\"],[1.0,\"#f0f921\"]],\"diverging\":[[0,\"#8e0152\"],[0.1,\"#c51b7d\"],[0.2,\"#de77ae\"],[0.3,\"#f1b6da\"],[0.4,\"#fde0ef\"],[0.5,\"#f7f7f7\"],[0.6,\"#e6f5d0\"],[0.7,\"#b8e186\"],[0.8,\"#7fbc41\"],[0.9,\"#4d9221\"],[1,\"#276419\"]]},\"xaxis\":{\"gridcolor\":\"white\",\"linecolor\":\"white\",\"ticks\":\"\",\"title\":{\"standoff\":15},\"zerolinecolor\":\"white\",\"automargin\":true,\"zerolinewidth\":2},\"yaxis\":{\"gridcolor\":\"white\",\"linecolor\":\"white\",\"ticks\":\"\",\"title\":{\"standoff\":15},\"zerolinecolor\":\"white\",\"automargin\":true,\"zerolinewidth\":2},\"scene\":{\"xaxis\":{\"backgroundcolor\":\"#E5ECF6\",\"gridcolor\":\"white\",\"linecolor\":\"white\",\"showbackground\":true,\"ticks\":\"\",\"zerolinecolor\":\"white\",\"gridwidth\":2},\"yaxis\":{\"backgroundcolor\":\"#E5ECF6\",\"gridcolor\":\"white\",\"linecolor\":\"white\",\"showbackground\":true,\"ticks\":\"\",\"zerolinecolor\":\"white\",\"gridwidth\":2},\"zaxis\":{\"backgroundcolor\":\"#E5ECF6\",\"gridcolor\":\"white\",\"linecolor\":\"white\",\"showbackground\":true,\"ticks\":\"\",\"zerolinecolor\":\"white\",\"gridwidth\":2}},\"shapedefaults\":{\"line\":{\"color\":\"#2a3f5f\"}},\"annotationdefaults\":{\"arrowcolor\":\"#2a3f5f\",\"arrowhead\":0,\"arrowwidth\":1},\"geo\":{\"bgcolor\":\"white\",\"landcolor\":\"#E5ECF6\",\"subunitcolor\":\"white\",\"showland\":true,\"showlakes\":true,\"lakecolor\":\"white\"},\"title\":{\"x\":0.05},\"mapbox\":{\"style\":\"light\"}}},\"scene\":{\"domain\":{\"x\":[0.0,1.0],\"y\":[0.0,1.0]},\"xaxis\":{\"title\":{\"text\":\"X\"}},\"yaxis\":{\"title\":{\"text\":\"Y\"}},\"zaxis\":{\"title\":{\"text\":\"Z\"}}},\"legend\":{\"tracegroupgap\":0},\"title\":{\"text\":\"3D Scatter Plot Example\"}},                        {\"responsive\": true}                    ).then(function(){\n",
              "                            \n",
              "var gd = document.getElementById('51aea1bc-b224-490a-b54e-a94395f8f93e');\n",
              "var x = new MutationObserver(function (mutations, observer) {{\n",
              "        var display = window.getComputedStyle(gd).display;\n",
              "        if (!display || display === 'none') {{\n",
              "            console.log([gd, 'removed!']);\n",
              "            Plotly.purge(gd);\n",
              "            observer.disconnect();\n",
              "        }}\n",
              "}});\n",
              "\n",
              "// Listen for the removal of the full notebook cells\n",
              "var notebookContainer = gd.closest('#notebook-container');\n",
              "if (notebookContainer) {{\n",
              "    x.observe(notebookContainer, {childList: true});\n",
              "}}\n",
              "\n",
              "// Listen for the clearing of the current output cell\n",
              "var outputEl = gd.closest('.output');\n",
              "if (outputEl) {{\n",
              "    x.observe(outputEl, {childList: true});\n",
              "}}\n",
              "\n",
              "                        })                };                            </script>        </div>\n",
              "</body>\n",
              "</html>"
            ]
          },
          "metadata": {}
        }
      ]
    }
  ]
}